{
 "cells": [
  {
   "cell_type": "code",
   "execution_count": 1,
   "id": "1bfa6b8d",
   "metadata": {
    "_cell_guid": "b1076dfc-b9ad-4769-8c92-a6c4dae69d19",
    "_uuid": "8f2839f25d086af736a60e9eeb907d3b93b6e0e5",
    "execution": {
     "iopub.execute_input": "2025-10-28T16:41:24.428605Z",
     "iopub.status.busy": "2025-10-28T16:41:24.428084Z",
     "iopub.status.idle": "2025-10-28T16:41:41.384306Z",
     "shell.execute_reply": "2025-10-28T16:41:41.382819Z"
    },
    "papermill": {
     "duration": 16.971734,
     "end_time": "2025-10-28T16:41:41.386246",
     "exception": false,
     "start_time": "2025-10-28T16:41:24.414512",
     "status": "completed"
    },
    "tags": []
   },
   "outputs": [
    {
     "name": "stdout",
     "output_type": "stream",
     "text": [
      "Collecting pymorphy3\r\n",
      "  Downloading pymorphy3-2.0.6-py3-none-any.whl.metadata (2.4 kB)\r\n",
      "Collecting dawg2-python>=0.8.0 (from pymorphy3)\r\n",
      "  Downloading dawg2_python-0.9.0-py3-none-any.whl.metadata (7.5 kB)\r\n",
      "Collecting pymorphy3-dicts-ru (from pymorphy3)\r\n",
      "  Downloading pymorphy3_dicts_ru-2.4.417150.4580142-py2.py3-none-any.whl.metadata (2.0 kB)\r\n",
      "Downloading pymorphy3-2.0.6-py3-none-any.whl (53 kB)\r\n",
      "\u001b[2K   \u001b[90m━━━━━━━━━━━━━━━━━━━━━━━━━━━━━━━━━━━━━━━━\u001b[0m \u001b[32m53.9/53.9 kB\u001b[0m \u001b[31m1.1 MB/s\u001b[0m eta \u001b[36m0:00:00\u001b[0m\r\n",
      "\u001b[?25hDownloading dawg2_python-0.9.0-py3-none-any.whl (9.3 kB)\r\n",
      "Downloading pymorphy3_dicts_ru-2.4.417150.4580142-py2.py3-none-any.whl (8.4 MB)\r\n",
      "\u001b[2K   \u001b[90m━━━━━━━━━━━━━━━━━━━━━━━━━━━━━━━━━━━━━━━━\u001b[0m \u001b[32m8.4/8.4 MB\u001b[0m \u001b[31m54.7 MB/s\u001b[0m eta \u001b[36m0:00:00\u001b[0m\r\n",
      "\u001b[?25hInstalling collected packages: pymorphy3-dicts-ru, dawg2-python, pymorphy3\r\n",
      "Successfully installed dawg2-python-0.9.0 pymorphy3-2.0.6 pymorphy3-dicts-ru-2.4.417150.4580142\r\n",
      "/kaggle/input/21-vek-by-searched-products-ranking/products.csv\n",
      "/kaggle/input/21-vek-by-searched-products-ranking/sample_submission.csv\n",
      "/kaggle/input/21-vek-by-searched-products-ranking/train.csv\n",
      "/kaggle/input/21-vek-by-searched-products-ranking/test.csv\n"
     ]
    }
   ],
   "source": [
    "import numpy as np\n",
    "import pandas as pd\n",
    "from math import log2\n",
    "import pandas as pd\n",
    "import matplotlib.pyplot as plt\n",
    "import seaborn as sns\n",
    "import re\n",
    "!pip install pymorphy3\n",
    "from pymorphy3 import MorphAnalyzer\n",
    "import nltk\n",
    "from nltk.corpus import stopwords\n",
    "from catboost import CatBoostRanker\n",
    "\n",
    "import os\n",
    "for dirname, _, filenames in os.walk('/kaggle/input'):\n",
    "    for filename in filenames:\n",
    "        print(os.path.join(dirname, filename))"
   ]
  },
  {
   "cell_type": "markdown",
   "id": "5c9fc9a5",
   "metadata": {
    "papermill": {
     "duration": 0.012879,
     "end_time": "2025-10-28T16:41:41.411337",
     "exception": false,
     "start_time": "2025-10-28T16:41:41.398458",
     "status": "completed"
    },
    "tags": []
   },
   "source": [
    "# **1) Load data and first look**"
   ]
  },
  {
   "cell_type": "code",
   "execution_count": 2,
   "id": "61d9eafc",
   "metadata": {
    "execution": {
     "iopub.execute_input": "2025-10-28T16:41:41.435244Z",
     "iopub.status.busy": "2025-10-28T16:41:41.434610Z",
     "iopub.status.idle": "2025-10-28T16:42:14.889828Z",
     "shell.execute_reply": "2025-10-28T16:42:14.886708Z"
    },
    "papermill": {
     "duration": 33.471937,
     "end_time": "2025-10-28T16:42:14.893852",
     "exception": false,
     "start_time": "2025-10-28T16:41:41.421915",
     "status": "completed"
    },
    "tags": []
   },
   "outputs": [],
   "source": [
    "df_sessions_train = pd.read_csv('/kaggle/input/21-vek-by-searched-products-ranking/train.csv')\n",
    "df_sessions_test = pd.read_csv('/kaggle/input/21-vek-by-searched-products-ranking/test.csv')\n",
    "df_products = pd.read_csv('/kaggle/input/21-vek-by-searched-products-ranking/products.csv')\n",
    "submission = pd.read_csv('/kaggle/input/21-vek-by-searched-products-ranking/sample_submission.csv')"
   ]
  },
  {
   "cell_type": "code",
   "execution_count": 3,
   "id": "fb972609",
   "metadata": {
    "execution": {
     "iopub.execute_input": "2025-10-28T16:42:14.922376Z",
     "iopub.status.busy": "2025-10-28T16:42:14.922026Z",
     "iopub.status.idle": "2025-10-28T16:42:14.962538Z",
     "shell.execute_reply": "2025-10-28T16:42:14.961381Z"
    },
    "papermill": {
     "duration": 0.05783,
     "end_time": "2025-10-28T16:42:14.964366",
     "exception": false,
     "start_time": "2025-10-28T16:42:14.906536",
     "status": "completed"
    },
    "tags": []
   },
   "outputs": [
    {
     "data": {
      "text/html": [
       "<div>\n",
       "<style scoped>\n",
       "    .dataframe tbody tr th:only-of-type {\n",
       "        vertical-align: middle;\n",
       "    }\n",
       "\n",
       "    .dataframe tbody tr th {\n",
       "        vertical-align: top;\n",
       "    }\n",
       "\n",
       "    .dataframe thead th {\n",
       "        text-align: right;\n",
       "    }\n",
       "</style>\n",
       "<table border=\"1\" class=\"dataframe\">\n",
       "  <thead>\n",
       "    <tr style=\"text-align: right;\">\n",
       "      <th></th>\n",
       "      <th>product_id</th>\n",
       "      <th>replaced_by</th>\n",
       "      <th>type</th>\n",
       "      <th>model</th>\n",
       "      <th>brand</th>\n",
       "      <th>country</th>\n",
       "      <th>category_name_1</th>\n",
       "      <th>category_name_2</th>\n",
       "      <th>category_name_3</th>\n",
       "      <th>category_name_4</th>\n",
       "      <th>date_of_create</th>\n",
       "    </tr>\n",
       "  </thead>\n",
       "  <tbody>\n",
       "    <tr>\n",
       "      <th>0</th>\n",
       "      <td>9497304</td>\n",
       "      <td>0</td>\n",
       "      <td>Сменный блок для освежителя воздуха</td>\n",
       "      <td>Automatic I Love You (269мл)</td>\n",
       "      <td>Glade</td>\n",
       "      <td>РОССИЯ</td>\n",
       "      <td>Товары для дома</td>\n",
       "      <td>Бытовая химия</td>\n",
       "      <td>Освежители воздуха</td>\n",
       "      <td>Освежитель воздуха</td>\n",
       "      <td>2025-01-29</td>\n",
       "    </tr>\n",
       "    <tr>\n",
       "      <th>1</th>\n",
       "      <td>9568803</td>\n",
       "      <td>0</td>\n",
       "      <td>Сироп</td>\n",
       "      <td>Маскарпоне (1л)</td>\n",
       "      <td>Spoom</td>\n",
       "      <td>РОССИЯ</td>\n",
       "      <td>Товары для дома</td>\n",
       "      <td>Бакалея</td>\n",
       "      <td>Сиропы и топпинги</td>\n",
       "      <td>Сироп</td>\n",
       "      <td>2025-03-04</td>\n",
       "    </tr>\n",
       "    <tr>\n",
       "      <th>2</th>\n",
       "      <td>9568807</td>\n",
       "      <td>0</td>\n",
       "      <td>Топпинг</td>\n",
       "      <td>Банан (1л)</td>\n",
       "      <td>Spoom</td>\n",
       "      <td>РОССИЯ</td>\n",
       "      <td>Товары для дома</td>\n",
       "      <td>Бакалея</td>\n",
       "      <td>Сиропы и топпинги</td>\n",
       "      <td>Сироп</td>\n",
       "      <td>2025-03-04</td>\n",
       "    </tr>\n",
       "    <tr>\n",
       "      <th>3</th>\n",
       "      <td>9568811</td>\n",
       "      <td>0</td>\n",
       "      <td>Сироп</td>\n",
       "      <td>Гранат (1л)</td>\n",
       "      <td>Spoom</td>\n",
       "      <td>РОССИЯ</td>\n",
       "      <td>Товары для дома</td>\n",
       "      <td>Бакалея</td>\n",
       "      <td>Сиропы и топпинги</td>\n",
       "      <td>Сироп</td>\n",
       "      <td>2025-03-04</td>\n",
       "    </tr>\n",
       "    <tr>\n",
       "      <th>4</th>\n",
       "      <td>9799984</td>\n",
       "      <td>0</td>\n",
       "      <td>Спрей от насекомых</td>\n",
       "      <td>Gold Детский спрей от комаров / Ins125/SprotK...</td>\n",
       "      <td>Inseense</td>\n",
       "      <td>РОССИЯ</td>\n",
       "      <td>Товары для дома</td>\n",
       "      <td>Бытовая химия</td>\n",
       "      <td>Средства от насекомых</td>\n",
       "      <td>Средство от насекомых</td>\n",
       "      <td>2025-06-26</td>\n",
       "    </tr>\n",
       "  </tbody>\n",
       "</table>\n",
       "</div>"
      ],
      "text/plain": [
       "   product_id  replaced_by                                  type  \\\n",
       "0     9497304            0  Сменный блок для освежителя воздуха    \n",
       "1     9568803            0                                Сироп    \n",
       "2     9568807            0                              Топпинг    \n",
       "3     9568811            0                                Сироп    \n",
       "4     9799984            0                   Спрей от насекомых    \n",
       "\n",
       "                                               model     brand country  \\\n",
       "0                       Automatic I Love You (269мл)     Glade  РОССИЯ   \n",
       "1                                    Маскарпоне (1л)     Spoom  РОССИЯ   \n",
       "2                                         Банан (1л)     Spoom  РОССИЯ   \n",
       "3                                        Гранат (1л)     Spoom  РОССИЯ   \n",
       "4   Gold Детский спрей от комаров / Ins125/SprotK...  Inseense  РОССИЯ   \n",
       "\n",
       "   category_name_1 category_name_2        category_name_3  \\\n",
       "0  Товары для дома   Бытовая химия     Освежители воздуха   \n",
       "1  Товары для дома         Бакалея      Сиропы и топпинги   \n",
       "2  Товары для дома         Бакалея      Сиропы и топпинги   \n",
       "3  Товары для дома         Бакалея      Сиропы и топпинги   \n",
       "4  Товары для дома   Бытовая химия  Средства от насекомых   \n",
       "\n",
       "         category_name_4 date_of_create  \n",
       "0     Освежитель воздуха     2025-01-29  \n",
       "1                  Сироп     2025-03-04  \n",
       "2                  Сироп     2025-03-04  \n",
       "3                  Сироп     2025-03-04  \n",
       "4  Средство от насекомых     2025-06-26  "
      ]
     },
     "execution_count": 3,
     "metadata": {},
     "output_type": "execute_result"
    }
   ],
   "source": [
    "df_products.head()"
   ]
  },
  {
   "cell_type": "code",
   "execution_count": 4,
   "id": "7966581e",
   "metadata": {
    "execution": {
     "iopub.execute_input": "2025-10-28T16:42:14.994588Z",
     "iopub.status.busy": "2025-10-28T16:42:14.994010Z",
     "iopub.status.idle": "2025-10-28T16:42:15.009865Z",
     "shell.execute_reply": "2025-10-28T16:42:15.008586Z"
    },
    "papermill": {
     "duration": 0.033614,
     "end_time": "2025-10-28T16:42:15.011775",
     "exception": false,
     "start_time": "2025-10-28T16:42:14.978161",
     "status": "completed"
    },
    "tags": []
   },
   "outputs": [
    {
     "data": {
      "text/html": [
       "<div>\n",
       "<style scoped>\n",
       "    .dataframe tbody tr th:only-of-type {\n",
       "        vertical-align: middle;\n",
       "    }\n",
       "\n",
       "    .dataframe tbody tr th {\n",
       "        vertical-align: top;\n",
       "    }\n",
       "\n",
       "    .dataframe thead th {\n",
       "        text-align: right;\n",
       "    }\n",
       "</style>\n",
       "<table border=\"1\" class=\"dataframe\">\n",
       "  <thead>\n",
       "    <tr style=\"text-align: right;\">\n",
       "      <th></th>\n",
       "      <th>query</th>\n",
       "      <th>date</th>\n",
       "      <th>device</th>\n",
       "      <th>user_number</th>\n",
       "      <th>search_number</th>\n",
       "      <th>product_id</th>\n",
       "      <th>selected_category_id</th>\n",
       "      <th>product_position</th>\n",
       "      <th>response_products</th>\n",
       "      <th>response_time</th>\n",
       "      <th>browse_time</th>\n",
       "      <th>filters_applied</th>\n",
       "      <th>price_is_discounted</th>\n",
       "      <th>price_is_super</th>\n",
       "      <th>price</th>\n",
       "      <th>price_discount</th>\n",
       "      <th>available</th>\n",
       "      <th>relevance</th>\n",
       "    </tr>\n",
       "  </thead>\n",
       "  <tbody>\n",
       "    <tr>\n",
       "      <th>0</th>\n",
       "      <td>bagi</td>\n",
       "      <td>2024-07-03</td>\n",
       "      <td>desktop</td>\n",
       "      <td>119760</td>\n",
       "      <td>1963</td>\n",
       "      <td>6221252</td>\n",
       "      <td>10709</td>\n",
       "      <td>2</td>\n",
       "      <td>9</td>\n",
       "      <td>76</td>\n",
       "      <td>2525</td>\n",
       "      <td>0</td>\n",
       "      <td>0</td>\n",
       "      <td>0</td>\n",
       "      <td>2940</td>\n",
       "      <td>0</td>\n",
       "      <td>2</td>\n",
       "      <td>0</td>\n",
       "    </tr>\n",
       "    <tr>\n",
       "      <th>1</th>\n",
       "      <td>bagi</td>\n",
       "      <td>2024-07-03</td>\n",
       "      <td>desktop</td>\n",
       "      <td>119760</td>\n",
       "      <td>1963</td>\n",
       "      <td>6221258</td>\n",
       "      <td>10718</td>\n",
       "      <td>3</td>\n",
       "      <td>3</td>\n",
       "      <td>75</td>\n",
       "      <td>2525</td>\n",
       "      <td>0</td>\n",
       "      <td>0</td>\n",
       "      <td>0</td>\n",
       "      <td>2036</td>\n",
       "      <td>0</td>\n",
       "      <td>2</td>\n",
       "      <td>2</td>\n",
       "    </tr>\n",
       "    <tr>\n",
       "      <th>2</th>\n",
       "      <td>bagi</td>\n",
       "      <td>2024-07-03</td>\n",
       "      <td>desktop</td>\n",
       "      <td>119760</td>\n",
       "      <td>1963</td>\n",
       "      <td>6221260</td>\n",
       "      <td>10718</td>\n",
       "      <td>1</td>\n",
       "      <td>3</td>\n",
       "      <td>75</td>\n",
       "      <td>2525</td>\n",
       "      <td>0</td>\n",
       "      <td>0</td>\n",
       "      <td>0</td>\n",
       "      <td>1955</td>\n",
       "      <td>0</td>\n",
       "      <td>2</td>\n",
       "      <td>1</td>\n",
       "    </tr>\n",
       "    <tr>\n",
       "      <th>3</th>\n",
       "      <td>bagi</td>\n",
       "      <td>2024-07-03</td>\n",
       "      <td>desktop</td>\n",
       "      <td>119760</td>\n",
       "      <td>1963</td>\n",
       "      <td>6221262</td>\n",
       "      <td>10718</td>\n",
       "      <td>2</td>\n",
       "      <td>3</td>\n",
       "      <td>75</td>\n",
       "      <td>2525</td>\n",
       "      <td>0</td>\n",
       "      <td>0</td>\n",
       "      <td>0</td>\n",
       "      <td>2442</td>\n",
       "      <td>0</td>\n",
       "      <td>2</td>\n",
       "      <td>0</td>\n",
       "    </tr>\n",
       "    <tr>\n",
       "      <th>4</th>\n",
       "      <td>bagi</td>\n",
       "      <td>2024-07-03</td>\n",
       "      <td>desktop</td>\n",
       "      <td>119760</td>\n",
       "      <td>1963</td>\n",
       "      <td>6221264</td>\n",
       "      <td>10709</td>\n",
       "      <td>9</td>\n",
       "      <td>9</td>\n",
       "      <td>76</td>\n",
       "      <td>2525</td>\n",
       "      <td>0</td>\n",
       "      <td>0</td>\n",
       "      <td>0</td>\n",
       "      <td>2165</td>\n",
       "      <td>0</td>\n",
       "      <td>2</td>\n",
       "      <td>0</td>\n",
       "    </tr>\n",
       "  </tbody>\n",
       "</table>\n",
       "</div>"
      ],
      "text/plain": [
       "  query        date   device  user_number  search_number  product_id  \\\n",
       "0  bagi  2024-07-03  desktop       119760           1963     6221252   \n",
       "1  bagi  2024-07-03  desktop       119760           1963     6221258   \n",
       "2  bagi  2024-07-03  desktop       119760           1963     6221260   \n",
       "3  bagi  2024-07-03  desktop       119760           1963     6221262   \n",
       "4  bagi  2024-07-03  desktop       119760           1963     6221264   \n",
       "\n",
       "   selected_category_id  product_position  response_products  response_time  \\\n",
       "0                 10709                 2                  9             76   \n",
       "1                 10718                 3                  3             75   \n",
       "2                 10718                 1                  3             75   \n",
       "3                 10718                 2                  3             75   \n",
       "4                 10709                 9                  9             76   \n",
       "\n",
       "   browse_time  filters_applied  price_is_discounted  price_is_super  price  \\\n",
       "0         2525                0                    0               0   2940   \n",
       "1         2525                0                    0               0   2036   \n",
       "2         2525                0                    0               0   1955   \n",
       "3         2525                0                    0               0   2442   \n",
       "4         2525                0                    0               0   2165   \n",
       "\n",
       "   price_discount  available  relevance  \n",
       "0               0          2          0  \n",
       "1               0          2          2  \n",
       "2               0          2          1  \n",
       "3               0          2          0  \n",
       "4               0          2          0  "
      ]
     },
     "execution_count": 4,
     "metadata": {},
     "output_type": "execute_result"
    }
   ],
   "source": [
    "df_sessions_train.head()"
   ]
  },
  {
   "cell_type": "code",
   "execution_count": 5,
   "id": "f73c2de0",
   "metadata": {
    "execution": {
     "iopub.execute_input": "2025-10-28T16:42:15.038038Z",
     "iopub.status.busy": "2025-10-28T16:42:15.037729Z",
     "iopub.status.idle": "2025-10-28T16:42:15.120235Z",
     "shell.execute_reply": "2025-10-28T16:42:15.118910Z"
    },
    "papermill": {
     "duration": 0.101146,
     "end_time": "2025-10-28T16:42:15.125013",
     "exception": false,
     "start_time": "2025-10-28T16:42:15.023867",
     "status": "completed"
    },
    "tags": []
   },
   "outputs": [
    {
     "name": "stdout",
     "output_type": "stream",
     "text": [
      "Number of products: 36673\n",
      "\n",
      "Column information:\n",
      "<class 'pandas.core.frame.DataFrame'>\n",
      "RangeIndex: 36673 entries, 0 to 36672\n",
      "Data columns (total 11 columns):\n",
      " #   Column           Non-Null Count  Dtype \n",
      "---  ------           --------------  ----- \n",
      " 0   product_id       36673 non-null  int64 \n",
      " 1   replaced_by      36673 non-null  int64 \n",
      " 2   type             36673 non-null  object\n",
      " 3   model            36673 non-null  object\n",
      " 4   brand            36673 non-null  object\n",
      " 5   country          36673 non-null  object\n",
      " 6   category_name_1  36673 non-null  object\n",
      " 7   category_name_2  36673 non-null  object\n",
      " 8   category_name_3  36673 non-null  object\n",
      " 9   category_name_4  36673 non-null  object\n",
      " 10  date_of_create   36673 non-null  object\n",
      "dtypes: int64(2), object(9)\n",
      "memory usage: 3.1+ MB\n",
      "None\n",
      "\n",
      "Column gaps:\n",
      "product_id         0\n",
      "replaced_by        0\n",
      "type               0\n",
      "model              0\n",
      "brand              0\n",
      "country            0\n",
      "category_name_1    0\n",
      "category_name_2    0\n",
      "category_name_3    0\n",
      "category_name_4    0\n",
      "date_of_create     0\n",
      "dtype: int64\n"
     ]
    }
   ],
   "source": [
    "print(\"Number of products:\", len(df_products))\n",
    "print(\"\\nColumn information:\")\n",
    "print(df_products.info())\n",
    "print(\"\\nColumn gaps:\")\n",
    "print(df_products.isna().sum())"
   ]
  },
  {
   "cell_type": "markdown",
   "id": "429f3071",
   "metadata": {
    "papermill": {
     "duration": 0.015155,
     "end_time": "2025-10-28T16:42:15.157130",
     "exception": false,
     "start_time": "2025-10-28T16:42:15.141975",
     "status": "completed"
    },
    "tags": []
   },
   "source": [
    "# **2) EDA**"
   ]
  },
  {
   "cell_type": "code",
   "execution_count": 6,
   "id": "eac9e2d1",
   "metadata": {
    "execution": {
     "iopub.execute_input": "2025-10-28T16:42:15.185346Z",
     "iopub.status.busy": "2025-10-28T16:42:15.184934Z",
     "iopub.status.idle": "2025-10-28T16:42:15.512343Z",
     "shell.execute_reply": "2025-10-28T16:42:15.509629Z"
    },
    "papermill": {
     "duration": 0.343629,
     "end_time": "2025-10-28T16:42:15.514153",
     "exception": false,
     "start_time": "2025-10-28T16:42:15.170524",
     "status": "completed"
    },
    "tags": []
   },
   "outputs": [
    {
     "name": "stdout",
     "output_type": "stream",
     "text": [
      "                  product_age_days  avg_relevance\n",
      "product_age_days          1.000000      -0.438239\n",
      "avg_relevance            -0.438239       1.000000\n"
     ]
    }
   ],
   "source": [
    "# Chart settings\n",
    "sns.set_style(\"whitegrid\")   \n",
    "plt.rcParams['figure.figsize'] = (12,6)\n",
    "\n",
    "# Creating a product age\n",
    "df_products['date_of_create'] = pd.to_datetime(df_products['date_of_create'])\n",
    "df_products['product_age_days'] = (pd.Timestamp('today') - df_products['date_of_create']).dt.days\n",
    "\n",
    "# Counting how many times each product appears in sessions\n",
    "popularity = df_sessions_train.groupby('product_id')['relevance'].mean().reset_index(name='avg_relevance')\n",
    "\n",
    "# Connecting to the product dataframe\n",
    "df = df_products.merge(popularity, on='product_id', how='left').fillna(-1)\n",
    "\n",
    "# Let's look at the correlation\n",
    "print(df[['product_age_days', 'avg_relevance']].corr())"
   ]
  },
  {
   "cell_type": "markdown",
   "id": "90c18114",
   "metadata": {
    "papermill": {
     "duration": 0.012041,
     "end_time": "2025-10-28T16:42:15.538232",
     "exception": false,
     "start_time": "2025-10-28T16:42:15.526191",
     "status": "completed"
    },
    "tags": []
   },
   "source": [
    "#### The correlation between product age and the target variable is small (almost zero). Older products are purchased slightly more often, but the difference is insignificant."
   ]
  },
  {
   "cell_type": "code",
   "execution_count": 7,
   "id": "9d551fd6",
   "metadata": {
    "execution": {
     "iopub.execute_input": "2025-10-28T16:42:15.572086Z",
     "iopub.status.busy": "2025-10-28T16:42:15.571736Z",
     "iopub.status.idle": "2025-10-28T16:42:16.186722Z",
     "shell.execute_reply": "2025-10-28T16:42:16.180597Z"
    },
    "papermill": {
     "duration": 0.633615,
     "end_time": "2025-10-28T16:42:16.191127",
     "exception": false,
     "start_time": "2025-10-28T16:42:15.557512",
     "status": "completed"
    },
    "tags": []
   },
   "outputs": [
    {
     "name": "stdout",
     "output_type": "stream",
     "text": [
      "count    36673.000000\n",
      "mean      1877.442969\n",
      "std       1862.792433\n",
      "min         43.000000\n",
      "25%        502.000000\n",
      "50%       1267.000000\n",
      "75%       2373.000000\n",
      "max       5779.000000\n",
      "Name: product_age_days, dtype: float64\n"
     ]
    },
    {
     "name": "stderr",
     "output_type": "stream",
     "text": [
      "/usr/local/lib/python3.11/dist-packages/seaborn/_oldcore.py:1119: FutureWarning: use_inf_as_na option is deprecated and will be removed in a future version. Convert inf values to NaN before operating instead.\n",
      "  with pd.option_context('mode.use_inf_as_na', True):\n"
     ]
    },
    {
     "data": {
      "image/png": "[encoded data removed]",
      "text/plain": [
       "<Figure size 1200x600 with 1 Axes>"
      ]
     },
     "metadata": {},
     "output_type": "display_data"
    }
   ],
   "source": [
    "print(df_products['product_age_days'].describe())\n",
    "\n",
    "sns.histplot(df_products['product_age_days'], bins=50)\n",
    "plt.title('Distribution of product age (days)')\n",
    "plt.xlabel('Product age (days)')\n",
    "plt.show()"
   ]
  },
  {
   "cell_type": "markdown",
   "id": "8deb19a3",
   "metadata": {
    "papermill": {
     "duration": 0.01773,
     "end_time": "2025-10-28T16:42:16.223810",
     "exception": false,
     "start_time": "2025-10-28T16:42:16.206080",
     "status": "completed"
    },
    "tags": []
   },
   "source": [
    "#### As you can see, most of the items were posted less than 3,000 days ago (about 8 years). However, there are also items that are 5,775 days old (or about 16 years old). Let's analyze the older items."
   ]
  },
  {
   "cell_type": "code",
   "execution_count": 8,
   "id": "db3f834e",
   "metadata": {
    "execution": {
     "iopub.execute_input": "2025-10-28T16:42:16.254151Z",
     "iopub.status.busy": "2025-10-28T16:42:16.253158Z",
     "iopub.status.idle": "2025-10-28T16:42:16.282438Z",
     "shell.execute_reply": "2025-10-28T16:42:16.280696Z"
    },
    "papermill": {
     "duration": 0.047464,
     "end_time": "2025-10-28T16:42:16.285321",
     "exception": false,
     "start_time": "2025-10-28T16:42:16.237857",
     "status": "completed"
    },
    "tags": []
   },
   "outputs": [
    {
     "data": {
      "text/html": [
       "<div>\n",
       "<style scoped>\n",
       "    .dataframe tbody tr th:only-of-type {\n",
       "        vertical-align: middle;\n",
       "    }\n",
       "\n",
       "    .dataframe tbody tr th {\n",
       "        vertical-align: top;\n",
       "    }\n",
       "\n",
       "    .dataframe thead th {\n",
       "        text-align: right;\n",
       "    }\n",
       "</style>\n",
       "<table border=\"1\" class=\"dataframe\">\n",
       "  <thead>\n",
       "    <tr style=\"text-align: right;\">\n",
       "      <th></th>\n",
       "      <th>product_id</th>\n",
       "      <th>replaced_by</th>\n",
       "      <th>type</th>\n",
       "      <th>model</th>\n",
       "      <th>brand</th>\n",
       "      <th>country</th>\n",
       "      <th>category_name_1</th>\n",
       "      <th>category_name_2</th>\n",
       "      <th>category_name_3</th>\n",
       "      <th>category_name_4</th>\n",
       "      <th>date_of_create</th>\n",
       "      <th>product_age_days</th>\n",
       "    </tr>\n",
       "  </thead>\n",
       "  <tbody>\n",
       "    <tr>\n",
       "      <th>85</th>\n",
       "      <td>480627</td>\n",
       "      <td>0</td>\n",
       "      <td>Набор для посудомоечных машин</td>\n",
       "      <td>Соль + Порошок с эффектом соды + Ополаскиватель</td>\n",
       "      <td>Сомат</td>\n",
       "      <td>РОССИЯ</td>\n",
       "      <td>Товары для дома</td>\n",
       "      <td>Бытовая химия</td>\n",
       "      <td>Средства для посудомоечных машин</td>\n",
       "      <td>Средство для посудомоечных машин</td>\n",
       "      <td>2010-01-01</td>\n",
       "      <td>5779</td>\n",
       "    </tr>\n",
       "    <tr>\n",
       "      <th>130</th>\n",
       "      <td>481129</td>\n",
       "      <td>0</td>\n",
       "      <td>Антимоль</td>\n",
       "      <td>Лаванда / ST1012</td>\n",
       "      <td>Раптор</td>\n",
       "      <td>РОССИЯ</td>\n",
       "      <td>Товары для дома</td>\n",
       "      <td>Бытовая химия</td>\n",
       "      <td>Средства от насекомых</td>\n",
       "      <td>Средство от насекомых</td>\n",
       "      <td>2010-01-01</td>\n",
       "      <td>5779</td>\n",
       "    </tr>\n",
       "    <tr>\n",
       "      <th>131</th>\n",
       "      <td>481135</td>\n",
       "      <td>0</td>\n",
       "      <td>Антимоль</td>\n",
       "      <td>Лаванда / G0001</td>\n",
       "      <td>Раптор</td>\n",
       "      <td>РОССИЯ</td>\n",
       "      <td>Товары для дома</td>\n",
       "      <td>Бытовая химия</td>\n",
       "      <td>Средства от насекомых</td>\n",
       "      <td>Средство от насекомых</td>\n",
       "      <td>2010-01-01</td>\n",
       "      <td>5779</td>\n",
       "    </tr>\n",
       "    <tr>\n",
       "      <th>132</th>\n",
       "      <td>481141</td>\n",
       "      <td>0</td>\n",
       "      <td>Аэрозоль от насекомых</td>\n",
       "      <td>От моли с ароматом лимона / 57418524</td>\n",
       "      <td>Раптор</td>\n",
       "      <td>РОССИЯ</td>\n",
       "      <td>Товары для дома</td>\n",
       "      <td>Бытовая химия</td>\n",
       "      <td>Средства от насекомых</td>\n",
       "      <td>Средство от насекомых</td>\n",
       "      <td>2010-01-01</td>\n",
       "      <td>5779</td>\n",
       "    </tr>\n",
       "    <tr>\n",
       "      <th>133</th>\n",
       "      <td>481160</td>\n",
       "      <td>0</td>\n",
       "      <td>Антимоль</td>\n",
       "      <td>Апельсин / D9204M</td>\n",
       "      <td>Раптор</td>\n",
       "      <td>РОССИЯ</td>\n",
       "      <td>Товары для дома</td>\n",
       "      <td>Бытовая химия</td>\n",
       "      <td>Средства от насекомых</td>\n",
       "      <td>Средство от насекомых</td>\n",
       "      <td>2010-01-01</td>\n",
       "      <td>5779</td>\n",
       "    </tr>\n",
       "    <tr>\n",
       "      <th>134</th>\n",
       "      <td>481163</td>\n",
       "      <td>0</td>\n",
       "      <td>Набор ловушек для насекомых</td>\n",
       "      <td>От тараканов / 57506054 (6шт)</td>\n",
       "      <td>Раптор</td>\n",
       "      <td>РОССИЯ</td>\n",
       "      <td>Товары для дома</td>\n",
       "      <td>Бытовая химия</td>\n",
       "      <td>Средства от насекомых</td>\n",
       "      <td>Средство от насекомых</td>\n",
       "      <td>2010-01-01</td>\n",
       "      <td>5779</td>\n",
       "    </tr>\n",
       "    <tr>\n",
       "      <th>135</th>\n",
       "      <td>481165</td>\n",
       "      <td>0</td>\n",
       "      <td>Гель от насекомых</td>\n",
       "      <td>57523049 (75мл)</td>\n",
       "      <td>Раптор</td>\n",
       "      <td>РОССИЯ</td>\n",
       "      <td>Товары для дома</td>\n",
       "      <td>Бытовая химия</td>\n",
       "      <td>Средства от насекомых</td>\n",
       "      <td>Средство от насекомых</td>\n",
       "      <td>2010-01-01</td>\n",
       "      <td>5779</td>\n",
       "    </tr>\n",
       "    <tr>\n",
       "      <th>136</th>\n",
       "      <td>481166</td>\n",
       "      <td>0</td>\n",
       "      <td>Ловушка для насекомых</td>\n",
       "      <td>От тараканов повышенной эффективности / s2003...</td>\n",
       "      <td>Раптор</td>\n",
       "      <td>РОССИЯ</td>\n",
       "      <td>Товары для дома</td>\n",
       "      <td>Бытовая химия</td>\n",
       "      <td>Средства от насекомых</td>\n",
       "      <td>Средство от насекомых</td>\n",
       "      <td>2010-01-01</td>\n",
       "      <td>5779</td>\n",
       "    </tr>\n",
       "    <tr>\n",
       "      <th>137</th>\n",
       "      <td>481167</td>\n",
       "      <td>0</td>\n",
       "      <td>Антимоль</td>\n",
       "      <td>Мандарин / ST1011</td>\n",
       "      <td>Раптор</td>\n",
       "      <td>РОССИЯ</td>\n",
       "      <td>Товары для дома</td>\n",
       "      <td>Бытовая химия</td>\n",
       "      <td>Средства от насекомых</td>\n",
       "      <td>Средство от насекомых</td>\n",
       "      <td>2010-01-01</td>\n",
       "      <td>5779</td>\n",
       "    </tr>\n",
       "    <tr>\n",
       "      <th>138</th>\n",
       "      <td>481169</td>\n",
       "      <td>0</td>\n",
       "      <td>Антимоль</td>\n",
       "      <td>Жасмин / ST1013</td>\n",
       "      <td>Раптор</td>\n",
       "      <td>РОССИЯ</td>\n",
       "      <td>Товары для дома</td>\n",
       "      <td>Бытовая химия</td>\n",
       "      <td>Средства от насекомых</td>\n",
       "      <td>Средство от насекомых</td>\n",
       "      <td>2010-01-01</td>\n",
       "      <td>5779</td>\n",
       "    </tr>\n",
       "    <tr>\n",
       "      <th>151</th>\n",
       "      <td>482491</td>\n",
       "      <td>0</td>\n",
       "      <td>Полироль для мебели</td>\n",
       "      <td>Classic 5в1 для деревянных поверхностей (250мл)</td>\n",
       "      <td>Pronto</td>\n",
       "      <td>УКРАИНА</td>\n",
       "      <td>Товары для дома</td>\n",
       "      <td>Бытовая химия</td>\n",
       "      <td>Чистящие средства для мебели</td>\n",
       "      <td>Чистящее средство для мебели</td>\n",
       "      <td>2010-01-01</td>\n",
       "      <td>5779</td>\n",
       "    </tr>\n",
       "    <tr>\n",
       "      <th>152</th>\n",
       "      <td>482494</td>\n",
       "      <td>0</td>\n",
       "      <td>Полироль для мебели</td>\n",
       "      <td>Классик с пчелиным воском для мебели (250мл)</td>\n",
       "      <td>Pronto</td>\n",
       "      <td>УКРАИНА</td>\n",
       "      <td>Товары для дома</td>\n",
       "      <td>Бытовая химия</td>\n",
       "      <td>Чистящие средства для мебели</td>\n",
       "      <td>Чистящее средство для мебели</td>\n",
       "      <td>2010-01-01</td>\n",
       "      <td>5779</td>\n",
       "    </tr>\n",
       "    <tr>\n",
       "      <th>156</th>\n",
       "      <td>484205</td>\n",
       "      <td>0</td>\n",
       "      <td>Кондиционер для белья</td>\n",
       "      <td>Fabric Softener Blue (4л)</td>\n",
       "      <td>Yplon</td>\n",
       "      <td>ПОЛЬША</td>\n",
       "      <td>Товары для дома</td>\n",
       "      <td>Бытовая химия</td>\n",
       "      <td>Средства для стирки</td>\n",
       "      <td>Средство для стирки</td>\n",
       "      <td>2010-01-01</td>\n",
       "      <td>5779</td>\n",
       "    </tr>\n",
       "    <tr>\n",
       "      <th>157</th>\n",
       "      <td>484206</td>\n",
       "      <td>0</td>\n",
       "      <td>Кондиционер для белья</td>\n",
       "      <td>Fabric Softener Pink (4л)</td>\n",
       "      <td>Yplon</td>\n",
       "      <td>ПОЛЬША</td>\n",
       "      <td>Товары для дома</td>\n",
       "      <td>Бытовая химия</td>\n",
       "      <td>Средства для стирки</td>\n",
       "      <td>Средство для стирки</td>\n",
       "      <td>2010-01-01</td>\n",
       "      <td>5779</td>\n",
       "    </tr>\n",
       "    <tr>\n",
       "      <th>158</th>\n",
       "      <td>484207</td>\n",
       "      <td>0</td>\n",
       "      <td>Кондиционер для белья</td>\n",
       "      <td>Fabric Softener White (4л)</td>\n",
       "      <td>Yplon</td>\n",
       "      <td>ПОЛЬША</td>\n",
       "      <td>Товары для дома</td>\n",
       "      <td>Бытовая химия</td>\n",
       "      <td>Средства для стирки</td>\n",
       "      <td>Средство для стирки</td>\n",
       "      <td>2010-01-01</td>\n",
       "      <td>5779</td>\n",
       "    </tr>\n",
       "    <tr>\n",
       "      <th>166</th>\n",
       "      <td>18439</td>\n",
       "      <td>0</td>\n",
       "      <td>Поглотитель запаха для холодильника</td>\n",
       "      <td>PZL 01</td>\n",
       "      <td>Worwo</td>\n",
       "      <td>ПОЛЬША</td>\n",
       "      <td>Товары для дома</td>\n",
       "      <td>Бытовая химия</td>\n",
       "      <td>Средства для ухода за техникой</td>\n",
       "      <td>Средство для ухода за техникой</td>\n",
       "      <td>2010-01-01</td>\n",
       "      <td>5779</td>\n",
       "    </tr>\n",
       "    <tr>\n",
       "      <th>173</th>\n",
       "      <td>481154</td>\n",
       "      <td>0</td>\n",
       "      <td>Антимоль</td>\n",
       "      <td>От пищевой моли / Gf0001</td>\n",
       "      <td>Раптор</td>\n",
       "      <td>ЧЕХИЯ</td>\n",
       "      <td>Товары для дома</td>\n",
       "      <td>Бытовая химия</td>\n",
       "      <td>Средства от насекомых</td>\n",
       "      <td>Средство от насекомых</td>\n",
       "      <td>2010-01-01</td>\n",
       "      <td>5779</td>\n",
       "    </tr>\n",
       "    <tr>\n",
       "      <th>198</th>\n",
       "      <td>482490</td>\n",
       "      <td>0</td>\n",
       "      <td>Чистящее средство для ванной комнаты</td>\n",
       "      <td>5в1 (500мл)</td>\n",
       "      <td>Mr. Muscle</td>\n",
       "      <td>НИДЕРЛАНДЫ</td>\n",
       "      <td>Товары для дома</td>\n",
       "      <td>Бытовая химия</td>\n",
       "      <td>Чистящие средства для ванной и туалета</td>\n",
       "      <td>Чистящее средство для ванной/туалета</td>\n",
       "      <td>2010-01-01</td>\n",
       "      <td>5779</td>\n",
       "    </tr>\n",
       "    <tr>\n",
       "      <th>204</th>\n",
       "      <td>482493</td>\n",
       "      <td>0</td>\n",
       "      <td>Очиститель для мебели</td>\n",
       "      <td>Уход для мебели 5в1 Алое Вера (500мл)</td>\n",
       "      <td>Pronto</td>\n",
       "      <td>НИДЕРЛАНДЫ</td>\n",
       "      <td>Товары для дома</td>\n",
       "      <td>Бытовая химия</td>\n",
       "      <td>Чистящие средства для мебели</td>\n",
       "      <td>Чистящее средство для мебели</td>\n",
       "      <td>2010-01-01</td>\n",
       "      <td>5779</td>\n",
       "    </tr>\n",
       "    <tr>\n",
       "      <th>233</th>\n",
       "      <td>482486</td>\n",
       "      <td>0</td>\n",
       "      <td>Гель для стирки</td>\n",
       "      <td>Active Soda (1.5л)</td>\n",
       "      <td>Frosch</td>\n",
       "      <td>ГЕРМАНИЯ</td>\n",
       "      <td>Товары для дома</td>\n",
       "      <td>Бытовая химия</td>\n",
       "      <td>Средства для стирки</td>\n",
       "      <td>Средство для стирки</td>\n",
       "      <td>2010-01-01</td>\n",
       "      <td>5779</td>\n",
       "    </tr>\n",
       "    <tr>\n",
       "      <th>234</th>\n",
       "      <td>483618</td>\n",
       "      <td>0</td>\n",
       "      <td>Стиральный порошок</td>\n",
       "      <td>Колор Алое Вера (1.35кг)</td>\n",
       "      <td>Frosch</td>\n",
       "      <td>ГЕРМАНИЯ</td>\n",
       "      <td>Товары для дома</td>\n",
       "      <td>Бытовая химия</td>\n",
       "      <td>Средства для стирки</td>\n",
       "      <td>Средство для стирки</td>\n",
       "      <td>2010-01-01</td>\n",
       "      <td>5779</td>\n",
       "    </tr>\n",
       "    <tr>\n",
       "      <th>235</th>\n",
       "      <td>483619</td>\n",
       "      <td>0</td>\n",
       "      <td>Пятновыводитель</td>\n",
       "      <td>Для предварительного удаления пятен с эффекто...</td>\n",
       "      <td>Frosch</td>\n",
       "      <td>ГЕРМАНИЯ</td>\n",
       "      <td>Товары для дома</td>\n",
       "      <td>Бытовая химия</td>\n",
       "      <td>Средства для стирки</td>\n",
       "      <td>Средство для стирки</td>\n",
       "      <td>2010-01-01</td>\n",
       "      <td>5779</td>\n",
       "    </tr>\n",
       "    <tr>\n",
       "      <th>236</th>\n",
       "      <td>483620</td>\n",
       "      <td>0</td>\n",
       "      <td>Универсальное чистящее средство</td>\n",
       "      <td>PH-нейтральное (1л)</td>\n",
       "      <td>Frosch</td>\n",
       "      <td>ГЕРМАНИЯ</td>\n",
       "      <td>Товары для дома</td>\n",
       "      <td>Бытовая химия</td>\n",
       "      <td>Универсальные, специальные чистящие средства</td>\n",
       "      <td>Универсальное/специальное чистящее средство</td>\n",
       "      <td>2010-01-01</td>\n",
       "      <td>5779</td>\n",
       "    </tr>\n",
       "    <tr>\n",
       "      <th>237</th>\n",
       "      <td>484599</td>\n",
       "      <td>0</td>\n",
       "      <td>Пятновыводитель</td>\n",
       "      <td>На растительной основе с эффектом очистки жел...</td>\n",
       "      <td>Frosch</td>\n",
       "      <td>ГЕРМАНИЯ</td>\n",
       "      <td>Товары для дома</td>\n",
       "      <td>Бытовая химия</td>\n",
       "      <td>Средства для стирки</td>\n",
       "      <td>Средство для стирки</td>\n",
       "      <td>2010-01-01</td>\n",
       "      <td>5779</td>\n",
       "    </tr>\n",
       "    <tr>\n",
       "      <th>238</th>\n",
       "      <td>484636</td>\n",
       "      <td>0</td>\n",
       "      <td>Пятновыводитель</td>\n",
       "      <td>С активным кислородом (75мл)</td>\n",
       "      <td>Frosch</td>\n",
       "      <td>ГЕРМАНИЯ</td>\n",
       "      <td>Товары для дома</td>\n",
       "      <td>Бытовая химия</td>\n",
       "      <td>Средства для стирки</td>\n",
       "      <td>Средство для стирки</td>\n",
       "      <td>2010-01-01</td>\n",
       "      <td>5779</td>\n",
       "    </tr>\n",
       "  </tbody>\n",
       "</table>\n",
       "</div>"
      ],
      "text/plain": [
       "     product_id  replaced_by                                   type  \\\n",
       "85       480627            0         Набор для посудомоечных машин    \n",
       "130      481129            0                              Антимоль    \n",
       "131      481135            0                              Антимоль    \n",
       "132      481141            0                 Аэрозоль от насекомых    \n",
       "133      481160            0                              Антимоль    \n",
       "134      481163            0           Набор ловушек для насекомых    \n",
       "135      481165            0                     Гель от насекомых    \n",
       "136      481166            0                 Ловушка для насекомых    \n",
       "137      481167            0                              Антимоль    \n",
       "138      481169            0                              Антимоль    \n",
       "151      482491            0                   Полироль для мебели    \n",
       "152      482494            0                   Полироль для мебели    \n",
       "156      484205            0                 Кондиционер для белья    \n",
       "157      484206            0                 Кондиционер для белья    \n",
       "158      484207            0                 Кондиционер для белья    \n",
       "166       18439            0   Поглотитель запаха для холодильника    \n",
       "173      481154            0                              Антимоль    \n",
       "198      482490            0  Чистящее средство для ванной комнаты    \n",
       "204      482493            0                 Очиститель для мебели    \n",
       "233      482486            0                       Гель для стирки    \n",
       "234      483618            0                    Стиральный порошок    \n",
       "235      483619            0                       Пятновыводитель    \n",
       "236      483620            0       Универсальное чистящее средство    \n",
       "237      484599            0                       Пятновыводитель    \n",
       "238      484636            0                       Пятновыводитель    \n",
       "\n",
       "                                                 model       brand  \\\n",
       "85     Соль + Порошок с эффектом соды + Ополаскиватель       Сомат   \n",
       "130                                   Лаванда / ST1012      Раптор   \n",
       "131                                    Лаванда / G0001      Раптор   \n",
       "132               От моли с ароматом лимона / 57418524      Раптор   \n",
       "133                                  Апельсин / D9204M      Раптор   \n",
       "134                      От тараканов / 57506054 (6шт)      Раптор   \n",
       "135                                    57523049 (75мл)      Раптор   \n",
       "136   От тараканов повышенной эффективности / s2003...      Раптор   \n",
       "137                                  Мандарин / ST1011      Раптор   \n",
       "138                                    Жасмин / ST1013      Раптор   \n",
       "151    Classic 5в1 для деревянных поверхностей (250мл)      Pronto   \n",
       "152       Классик с пчелиным воском для мебели (250мл)      Pronto   \n",
       "156                          Fabric Softener Blue (4л)       Yplon   \n",
       "157                          Fabric Softener Pink (4л)       Yplon   \n",
       "158                         Fabric Softener White (4л)       Yplon   \n",
       "166                                             PZL 01       Worwo   \n",
       "173                           От пищевой моли / Gf0001      Раптор   \n",
       "198                                        5в1 (500мл)  Mr. Muscle   \n",
       "204              Уход для мебели 5в1 Алое Вера (500мл)      Pronto   \n",
       "233                                 Active Soda (1.5л)      Frosch   \n",
       "234                           Колор Алое Вера (1.35кг)      Frosch   \n",
       "235   Для предварительного удаления пятен с эффекто...      Frosch   \n",
       "236                                PH-нейтральное (1л)      Frosch   \n",
       "237   На растительной основе с эффектом очистки жел...      Frosch   \n",
       "238                       С активным кислородом (75мл)      Frosch   \n",
       "\n",
       "        country  category_name_1 category_name_2  \\\n",
       "85       РОССИЯ  Товары для дома   Бытовая химия   \n",
       "130      РОССИЯ  Товары для дома   Бытовая химия   \n",
       "131      РОССИЯ  Товары для дома   Бытовая химия   \n",
       "132      РОССИЯ  Товары для дома   Бытовая химия   \n",
       "133      РОССИЯ  Товары для дома   Бытовая химия   \n",
       "134      РОССИЯ  Товары для дома   Бытовая химия   \n",
       "135      РОССИЯ  Товары для дома   Бытовая химия   \n",
       "136      РОССИЯ  Товары для дома   Бытовая химия   \n",
       "137      РОССИЯ  Товары для дома   Бытовая химия   \n",
       "138      РОССИЯ  Товары для дома   Бытовая химия   \n",
       "151     УКРАИНА  Товары для дома   Бытовая химия   \n",
       "152     УКРАИНА  Товары для дома   Бытовая химия   \n",
       "156      ПОЛЬША  Товары для дома   Бытовая химия   \n",
       "157      ПОЛЬША  Товары для дома   Бытовая химия   \n",
       "158      ПОЛЬША  Товары для дома   Бытовая химия   \n",
       "166      ПОЛЬША  Товары для дома   Бытовая химия   \n",
       "173       ЧЕХИЯ  Товары для дома   Бытовая химия   \n",
       "198  НИДЕРЛАНДЫ  Товары для дома   Бытовая химия   \n",
       "204  НИДЕРЛАНДЫ  Товары для дома   Бытовая химия   \n",
       "233    ГЕРМАНИЯ  Товары для дома   Бытовая химия   \n",
       "234    ГЕРМАНИЯ  Товары для дома   Бытовая химия   \n",
       "235    ГЕРМАНИЯ  Товары для дома   Бытовая химия   \n",
       "236    ГЕРМАНИЯ  Товары для дома   Бытовая химия   \n",
       "237    ГЕРМАНИЯ  Товары для дома   Бытовая химия   \n",
       "238    ГЕРМАНИЯ  Товары для дома   Бытовая химия   \n",
       "\n",
       "                                  category_name_3  \\\n",
       "85               Средства для посудомоечных машин   \n",
       "130                         Средства от насекомых   \n",
       "131                         Средства от насекомых   \n",
       "132                         Средства от насекомых   \n",
       "133                         Средства от насекомых   \n",
       "134                         Средства от насекомых   \n",
       "135                         Средства от насекомых   \n",
       "136                         Средства от насекомых   \n",
       "137                         Средства от насекомых   \n",
       "138                         Средства от насекомых   \n",
       "151                  Чистящие средства для мебели   \n",
       "152                  Чистящие средства для мебели   \n",
       "156                           Средства для стирки   \n",
       "157                           Средства для стирки   \n",
       "158                           Средства для стирки   \n",
       "166                Средства для ухода за техникой   \n",
       "173                         Средства от насекомых   \n",
       "198        Чистящие средства для ванной и туалета   \n",
       "204                  Чистящие средства для мебели   \n",
       "233                           Средства для стирки   \n",
       "234                           Средства для стирки   \n",
       "235                           Средства для стирки   \n",
       "236  Универсальные, специальные чистящие средства   \n",
       "237                           Средства для стирки   \n",
       "238                           Средства для стирки   \n",
       "\n",
       "                                 category_name_4 date_of_create  \\\n",
       "85              Средство для посудомоечных машин     2010-01-01   \n",
       "130                        Средство от насекомых     2010-01-01   \n",
       "131                        Средство от насекомых     2010-01-01   \n",
       "132                        Средство от насекомых     2010-01-01   \n",
       "133                        Средство от насекомых     2010-01-01   \n",
       "134                        Средство от насекомых     2010-01-01   \n",
       "135                        Средство от насекомых     2010-01-01   \n",
       "136                        Средство от насекомых     2010-01-01   \n",
       "137                        Средство от насекомых     2010-01-01   \n",
       "138                        Средство от насекомых     2010-01-01   \n",
       "151                 Чистящее средство для мебели     2010-01-01   \n",
       "152                 Чистящее средство для мебели     2010-01-01   \n",
       "156                          Средство для стирки     2010-01-01   \n",
       "157                          Средство для стирки     2010-01-01   \n",
       "158                          Средство для стирки     2010-01-01   \n",
       "166               Средство для ухода за техникой     2010-01-01   \n",
       "173                        Средство от насекомых     2010-01-01   \n",
       "198         Чистящее средство для ванной/туалета     2010-01-01   \n",
       "204                 Чистящее средство для мебели     2010-01-01   \n",
       "233                          Средство для стирки     2010-01-01   \n",
       "234                          Средство для стирки     2010-01-01   \n",
       "235                          Средство для стирки     2010-01-01   \n",
       "236  Универсальное/специальное чистящее средство     2010-01-01   \n",
       "237                          Средство для стирки     2010-01-01   \n",
       "238                          Средство для стирки     2010-01-01   \n",
       "\n",
       "     product_age_days  \n",
       "85               5779  \n",
       "130              5779  \n",
       "131              5779  \n",
       "132              5779  \n",
       "133              5779  \n",
       "134              5779  \n",
       "135              5779  \n",
       "136              5779  \n",
       "137              5779  \n",
       "138              5779  \n",
       "151              5779  \n",
       "152              5779  \n",
       "156              5779  \n",
       "157              5779  \n",
       "158              5779  \n",
       "166              5779  \n",
       "173              5779  \n",
       "198              5779  \n",
       "204              5779  \n",
       "233              5779  \n",
       "234              5779  \n",
       "235              5779  \n",
       "236              5779  \n",
       "237              5779  \n",
       "238              5779  "
      ]
     },
     "execution_count": 8,
     "metadata": {},
     "output_type": "execute_result"
    }
   ],
   "source": [
    "df_products[df_products['product_age_days'] > 5000].head(25)"
   ]
  },
  {
   "cell_type": "markdown",
   "id": "214c2b86",
   "metadata": {
    "papermill": {
     "duration": 0.016257,
     "end_time": "2025-10-28T16:42:16.316545",
     "exception": false,
     "start_time": "2025-10-28T16:42:16.300288",
     "status": "completed"
    },
    "tags": []
   },
   "source": [
    "#### This value is a placeholder, you can add a feature that will indicate this."
   ]
  },
  {
   "cell_type": "code",
   "execution_count": 9,
   "id": "c93d743e",
   "metadata": {
    "execution": {
     "iopub.execute_input": "2025-10-28T16:42:16.349246Z",
     "iopub.status.busy": "2025-10-28T16:42:16.348840Z",
     "iopub.status.idle": "2025-10-28T16:42:16.359293Z",
     "shell.execute_reply": "2025-10-28T16:42:16.357579Z"
    },
    "papermill": {
     "duration": 0.031003,
     "end_time": "2025-10-28T16:42:16.362455",
     "exception": false,
     "start_time": "2025-10-28T16:42:16.331452",
     "status": "completed"
    },
    "tags": []
   },
   "outputs": [],
   "source": [
    "df_products['elden_product'] = (df_products['product_age_days'] > 5000).astype(int) # Creating a separate feature for objects created on 01-01-2010"
   ]
  },
  {
   "cell_type": "code",
   "execution_count": 10,
   "id": "ddec87ff",
   "metadata": {
    "execution": {
     "iopub.execute_input": "2025-10-28T16:42:16.394578Z",
     "iopub.status.busy": "2025-10-28T16:42:16.394207Z",
     "iopub.status.idle": "2025-10-28T16:42:16.894131Z",
     "shell.execute_reply": "2025-10-28T16:42:16.892777Z"
    },
    "papermill": {
     "duration": 0.518346,
     "end_time": "2025-10-28T16:42:16.895898",
     "exception": false,
     "start_time": "2025-10-28T16:42:16.377552",
     "status": "completed"
    },
    "tags": []
   },
   "outputs": [
    {
     "data": {
      "image/png": "[encoded data removed]",
      "text/plain": [
       "<Figure size 1200x600 with 1 Axes>"
      ]
     },
     "metadata": {},
     "output_type": "display_data"
    }
   ],
   "source": [
    "top_brands = df_products['brand'].value_counts().head(10)\n",
    "sns.barplot(x=top_brands.index, y=top_brands.values)\n",
    "plt.xticks(rotation=45)\n",
    "plt.title('Top 10 brands by number of products')\n",
    "plt.show()"
   ]
  },
  {
   "cell_type": "markdown",
   "id": "c64f5ab3",
   "metadata": {
    "papermill": {
     "duration": 0.013745,
     "end_time": "2025-10-28T16:42:16.923987",
     "exception": false,
     "start_time": "2025-10-28T16:42:16.910242",
     "status": "completed"
    },
    "tags": []
   },
   "source": [
    "#### Phone manufacturers account for the majority of the market share. Moreover, Apple's product line significantly outstrips that of other brands, not only within its category but also overall. If one-hot encoding is planned for future use, it makes sense to group smaller brands into \"Others\"."
   ]
  },
  {
   "cell_type": "code",
   "execution_count": 11,
   "id": "805f63bb",
   "metadata": {
    "execution": {
     "iopub.execute_input": "2025-10-28T16:42:16.952882Z",
     "iopub.status.busy": "2025-10-28T16:42:16.952425Z",
     "iopub.status.idle": "2025-10-28T16:42:17.997669Z",
     "shell.execute_reply": "2025-10-28T16:42:17.996556Z"
    },
    "papermill": {
     "duration": 1.061988,
     "end_time": "2025-10-28T16:42:17.999417",
     "exception": false,
     "start_time": "2025-10-28T16:42:16.937429",
     "status": "completed"
    },
    "tags": []
   },
   "outputs": [
    {
     "data": {
      "image/png": "[encoded data removed]",
      "text/plain": [
       "<Figure size 1200x600 with 1 Axes>"
      ]
     },
     "metadata": {},
     "output_type": "display_data"
    },
    {
     "data": {
      "image/png": "[encoded data removed]",
      "text/plain": [
       "<Figure size 1200x600 with 1 Axes>"
      ]
     },
     "metadata": {},
     "output_type": "display_data"
    },
    {
     "data": {
      "image/png": "[encoded data removed]",
      "text/plain": [
       "<Figure size 1200x600 with 1 Axes>"
      ]
     },
     "metadata": {},
     "output_type": "display_data"
    },
    {
     "data": {
      "image/png": "[encoded data removed]",
      "text/plain": [
       "<Figure size 1200x600 with 1 Axes>"
      ]
     },
     "metadata": {},
     "output_type": "display_data"
    }
   ],
   "source": [
    "for col in ['category_name_1','category_name_2','category_name_3','category_name_4']:\n",
    "    counts = df_products[col].value_counts().head(5)\n",
    "    sns.barplot(y=counts.index, x=counts.values)\n",
    "    plt.title(f'Топ-5 {col}')\n",
    "    plt.xlabel('Number of products')\n",
    "    plt.show()"
   ]
  },
  {
   "cell_type": "markdown",
   "id": "edb9f9bd",
   "metadata": {
    "papermill": {
     "duration": 0.019569,
     "end_time": "2025-10-28T16:42:18.036753",
     "exception": false,
     "start_time": "2025-10-28T16:42:18.017184",
     "status": "completed"
    },
    "tags": []
   },
   "source": [
    "#### The first distribution shows that both categories are virtually identical. Most likely, the feature itself doesn't correlate particularly well with the target variable. However, they can be analyzed and used to create new features. It's also clear that although electronics and home goods initially appear equally frequently, as you drill down into the categories, phones leap ahead, accounting for about half of all positions."
   ]
  },
  {
   "cell_type": "code",
   "execution_count": 12,
   "id": "60a3486f",
   "metadata": {
    "execution": {
     "iopub.execute_input": "2025-10-28T16:42:18.071680Z",
     "iopub.status.busy": "2025-10-28T16:42:18.071014Z",
     "iopub.status.idle": "2025-10-28T16:42:18.268111Z",
     "shell.execute_reply": "2025-10-28T16:42:18.266325Z"
    },
    "papermill": {
     "duration": 0.216146,
     "end_time": "2025-10-28T16:42:18.269689",
     "exception": false,
     "start_time": "2025-10-28T16:42:18.053543",
     "status": "completed"
    },
    "tags": []
   },
   "outputs": [
    {
     "data": {
      "image/png": "[encoded data removed]",
      "text/plain": [
       "<Figure size 1200x600 with 1 Axes>"
      ]
     },
     "metadata": {},
     "output_type": "display_data"
    }
   ],
   "source": [
    "sns.countplot(x=(df_products['replaced_by'] != 0))\n",
    "plt.xticks([0,1], ['Replacement', 'No replacement'])\n",
    "plt.title('Products with replacement / without replacement')\n",
    "plt.show()"
   ]
  },
  {
   "cell_type": "markdown",
   "id": "4ac8d9c5",
   "metadata": {
    "papermill": {
     "duration": 0.017023,
     "end_time": "2025-10-28T16:42:18.303877",
     "exception": false,
     "start_time": "2025-10-28T16:42:18.286854",
     "status": "completed"
    },
    "tags": []
   },
   "source": [
    "#### Mostly, the products don't change, but remain in their original positions. Most likely, this indicator isn't particularly informative."
   ]
  },
  {
   "cell_type": "code",
   "execution_count": 13,
   "id": "4b554c74",
   "metadata": {
    "execution": {
     "iopub.execute_input": "2025-10-28T16:42:18.341260Z",
     "iopub.status.busy": "2025-10-28T16:42:18.340867Z",
     "iopub.status.idle": "2025-10-28T16:42:39.890678Z",
     "shell.execute_reply": "2025-10-28T16:42:39.888800Z"
    },
    "papermill": {
     "duration": 21.571656,
     "end_time": "2025-10-28T16:42:39.894126",
     "exception": false,
     "start_time": "2025-10-28T16:42:18.322470",
     "status": "completed"
    },
    "tags": []
   },
   "outputs": [
    {
     "data": {
      "image/png": "[encoded data removed]",
      "text/plain": [
       "<Figure size 1200x600 with 1 Axes>"
      ]
     },
     "metadata": {},
     "output_type": "display_data"
    }
   ],
   "source": [
    "df_s_p = df_sessions_train.merge(df_products, on='product_id', how='left')\n",
    "sns.scatterplot(data=df_s_p, x='price', y='relevance')\n",
    "plt.show()"
   ]
  },
  {
   "cell_type": "code",
   "execution_count": 14,
   "id": "3c6bc463",
   "metadata": {
    "execution": {
     "iopub.execute_input": "2025-10-28T16:42:39.945385Z",
     "iopub.status.busy": "2025-10-28T16:42:39.945045Z",
     "iopub.status.idle": "2025-10-28T16:42:39.974854Z",
     "shell.execute_reply": "2025-10-28T16:42:39.973550Z"
    },
    "papermill": {
     "duration": 0.05193,
     "end_time": "2025-10-28T16:42:39.976829",
     "exception": false,
     "start_time": "2025-10-28T16:42:39.924899",
     "status": "completed"
    },
    "tags": []
   },
   "outputs": [
    {
     "data": {
      "text/html": [
       "<div>\n",
       "<style scoped>\n",
       "    .dataframe tbody tr th:only-of-type {\n",
       "        vertical-align: middle;\n",
       "    }\n",
       "\n",
       "    .dataframe tbody tr th {\n",
       "        vertical-align: top;\n",
       "    }\n",
       "\n",
       "    .dataframe thead th {\n",
       "        text-align: right;\n",
       "    }\n",
       "</style>\n",
       "<table border=\"1\" class=\"dataframe\">\n",
       "  <thead>\n",
       "    <tr style=\"text-align: right;\">\n",
       "      <th></th>\n",
       "      <th>query</th>\n",
       "      <th>date</th>\n",
       "      <th>device</th>\n",
       "      <th>user_number</th>\n",
       "      <th>search_number</th>\n",
       "      <th>product_id</th>\n",
       "      <th>selected_category_id</th>\n",
       "      <th>product_position</th>\n",
       "      <th>response_products</th>\n",
       "      <th>response_time</th>\n",
       "      <th>browse_time</th>\n",
       "      <th>filters_applied</th>\n",
       "      <th>price_is_discounted</th>\n",
       "      <th>price_is_super</th>\n",
       "      <th>price</th>\n",
       "      <th>price_discount</th>\n",
       "      <th>available</th>\n",
       "      <th>relevance</th>\n",
       "      <th>replaced_by</th>\n",
       "      <th>type</th>\n",
       "      <th>model</th>\n",
       "      <th>brand</th>\n",
       "      <th>country</th>\n",
       "      <th>category_name_1</th>\n",
       "      <th>category_name_2</th>\n",
       "      <th>category_name_3</th>\n",
       "      <th>category_name_4</th>\n",
       "      <th>date_of_create</th>\n",
       "      <th>product_age_days</th>\n",
       "      <th>elden_product</th>\n",
       "    </tr>\n",
       "  </thead>\n",
       "  <tbody>\n",
       "    <tr>\n",
       "      <th>3297157</th>\n",
       "      <td>ariel</td>\n",
       "      <td>2025-03-12</td>\n",
       "      <td>app</td>\n",
       "      <td>94696</td>\n",
       "      <td>406196</td>\n",
       "      <td>7763297</td>\n",
       "      <td>399</td>\n",
       "      <td>61</td>\n",
       "      <td>100</td>\n",
       "      <td>35</td>\n",
       "      <td>2703</td>\n",
       "      <td>0</td>\n",
       "      <td>0</td>\n",
       "      <td>0</td>\n",
       "      <td>3808208</td>\n",
       "      <td>0</td>\n",
       "      <td>0</td>\n",
       "      <td>0</td>\n",
       "      <td>0</td>\n",
       "      <td>Пятновыводитель</td>\n",
       "      <td>Diamond Bright для тканей порошкообразный для цветного (500г)</td>\n",
       "      <td>Ariel</td>\n",
       "      <td>РОССИЯ</td>\n",
       "      <td>Товары для дома</td>\n",
       "      <td>Бытовая химия</td>\n",
       "      <td>Средства для стирки</td>\n",
       "      <td>Средство для стирки</td>\n",
       "      <td>2022-09-20</td>\n",
       "      <td>1134</td>\n",
       "      <td>0</td>\n",
       "    </tr>\n",
       "    <tr>\n",
       "      <th>3336983</th>\n",
       "      <td>для стиральной машины</td>\n",
       "      <td>2025-03-12</td>\n",
       "      <td>app</td>\n",
       "      <td>164244</td>\n",
       "      <td>407249</td>\n",
       "      <td>9462594</td>\n",
       "      <td>399</td>\n",
       "      <td>74</td>\n",
       "      <td>52</td>\n",
       "      <td>157</td>\n",
       "      <td>933</td>\n",
       "      <td>1</td>\n",
       "      <td>0</td>\n",
       "      <td>0</td>\n",
       "      <td>3925280</td>\n",
       "      <td>0</td>\n",
       "      <td>0</td>\n",
       "      <td>0</td>\n",
       "      <td>0</td>\n",
       "      <td>Стиральный порошок</td>\n",
       "      <td>Апельсин и лимон Автомат (350г)</td>\n",
       "      <td>Биолан</td>\n",
       "      <td>РОССИЯ</td>\n",
       "      <td>Товары для дома</td>\n",
       "      <td>Бытовая химия</td>\n",
       "      <td>Средства для стирки</td>\n",
       "      <td>Средство для стирки</td>\n",
       "      <td>2025-01-13</td>\n",
       "      <td>288</td>\n",
       "      <td>0</td>\n",
       "    </tr>\n",
       "    <tr>\n",
       "      <th>3341000</th>\n",
       "      <td>bimax</td>\n",
       "      <td>2025-03-12</td>\n",
       "      <td>mobile</td>\n",
       "      <td>94507</td>\n",
       "      <td>36335</td>\n",
       "      <td>9462587</td>\n",
       "      <td>399</td>\n",
       "      <td>13</td>\n",
       "      <td>15</td>\n",
       "      <td>303</td>\n",
       "      <td>414</td>\n",
       "      <td>0</td>\n",
       "      <td>0</td>\n",
       "      <td>0</td>\n",
       "      <td>4000797</td>\n",
       "      <td>0</td>\n",
       "      <td>0</td>\n",
       "      <td>0</td>\n",
       "      <td>0</td>\n",
       "      <td>Стиральный порошок</td>\n",
       "      <td>100 пятен Automat (1.5кг)</td>\n",
       "      <td>Bimax</td>\n",
       "      <td>РОССИЯ</td>\n",
       "      <td>Товары для дома</td>\n",
       "      <td>Бытовая химия</td>\n",
       "      <td>Средства для стирки</td>\n",
       "      <td>Средство для стирки</td>\n",
       "      <td>2025-01-13</td>\n",
       "      <td>288</td>\n",
       "      <td>0</td>\n",
       "    </tr>\n",
       "  </tbody>\n",
       "</table>\n",
       "</div>"
      ],
      "text/plain": [
       "                         query        date  device  user_number  \\\n",
       "3297157                  ariel  2025-03-12     app        94696   \n",
       "3336983  для стиральной машины  2025-03-12     app       164244   \n",
       "3341000                  bimax  2025-03-12  mobile        94507   \n",
       "\n",
       "         search_number  product_id  selected_category_id  product_position  \\\n",
       "3297157         406196     7763297                   399                61   \n",
       "3336983         407249     9462594                   399                74   \n",
       "3341000          36335     9462587                   399                13   \n",
       "\n",
       "         response_products  response_time  browse_time  filters_applied  \\\n",
       "3297157                100             35         2703                0   \n",
       "3336983                 52            157          933                1   \n",
       "3341000                 15            303          414                0   \n",
       "\n",
       "         price_is_discounted  price_is_super    price  price_discount  \\\n",
       "3297157                    0               0  3808208               0   \n",
       "3336983                    0               0  3925280               0   \n",
       "3341000                    0               0  4000797               0   \n",
       "\n",
       "         available  relevance  replaced_by                 type  \\\n",
       "3297157          0          0            0     Пятновыводитель    \n",
       "3336983          0          0            0  Стиральный порошок    \n",
       "3341000          0          0            0  Стиральный порошок    \n",
       "\n",
       "                                                                  model  \\\n",
       "3297157   Diamond Bright для тканей порошкообразный для цветного (500г)   \n",
       "3336983                                 Апельсин и лимон Автомат (350г)   \n",
       "3341000                                       100 пятен Automat (1.5кг)   \n",
       "\n",
       "          brand country  category_name_1 category_name_2      category_name_3  \\\n",
       "3297157   Ariel  РОССИЯ  Товары для дома   Бытовая химия  Средства для стирки   \n",
       "3336983  Биолан  РОССИЯ  Товары для дома   Бытовая химия  Средства для стирки   \n",
       "3341000   Bimax  РОССИЯ  Товары для дома   Бытовая химия  Средства для стирки   \n",
       "\n",
       "             category_name_4 date_of_create  product_age_days  elden_product  \n",
       "3297157  Средство для стирки     2022-09-20              1134              0  \n",
       "3336983  Средство для стирки     2025-01-13               288              0  \n",
       "3341000  Средство для стирки     2025-01-13               288              0  "
      ]
     },
     "execution_count": 14,
     "metadata": {},
     "output_type": "execute_result"
    }
   ],
   "source": [
    "pd.set_option('display.max_columns', None)  # Show all columns\n",
    "pd.set_option('display.max_rows', None)     # Show all rows\n",
    "pd.set_option('display.max_colwidth', None)\n",
    "df_s_p[df_s_p['price']>3.5*10**6]"
   ]
  },
  {
   "cell_type": "code",
   "execution_count": 15,
   "id": "515656ac",
   "metadata": {
    "execution": {
     "iopub.execute_input": "2025-10-28T16:42:40.014842Z",
     "iopub.status.busy": "2025-10-28T16:42:40.014435Z",
     "iopub.status.idle": "2025-10-28T16:42:40.020873Z",
     "shell.execute_reply": "2025-10-28T16:42:40.019573Z"
    },
    "papermill": {
     "duration": 0.027968,
     "end_time": "2025-10-28T16:42:40.022950",
     "exception": false,
     "start_time": "2025-10-28T16:42:39.994982",
     "status": "completed"
    },
    "tags": []
   },
   "outputs": [],
   "source": [
    "pd.reset_option('display.max_colwidth')\n",
    "pd.reset_option('display.max_columns')\n",
    "pd.reset_option('display.max_rows')"
   ]
  },
  {
   "cell_type": "markdown",
   "id": "9d479f2a",
   "metadata": {
    "papermill": {
     "duration": 0.019405,
     "end_time": "2025-10-28T16:42:40.060792",
     "exception": false,
     "start_time": "2025-10-28T16:42:40.041387",
     "status": "completed"
    },
    "tags": []
   },
   "source": [
    "#### As you can see, these three values ​​are anomalies (most likely data entry errors), since laundry detergents can't cost that much. If you filter out these three entries, you'll see that there's no critical relationship between price and the target variable."
   ]
  },
  {
   "cell_type": "code",
   "execution_count": 16,
   "id": "b29a7305",
   "metadata": {
    "execution": {
     "iopub.execute_input": "2025-10-28T16:42:40.101440Z",
     "iopub.status.busy": "2025-10-28T16:42:40.101073Z",
     "iopub.status.idle": "2025-10-28T16:42:40.996216Z",
     "shell.execute_reply": "2025-10-28T16:42:40.995076Z"
    },
    "papermill": {
     "duration": 0.916193,
     "end_time": "2025-10-28T16:42:40.998062",
     "exception": false,
     "start_time": "2025-10-28T16:42:40.081869",
     "status": "completed"
    },
    "tags": []
   },
   "outputs": [
    {
     "data": {
      "image/png": "[encoded data removed]",
      "text/plain": [
       "<Figure size 1200x600 with 1 Axes>"
      ]
     },
     "metadata": {},
     "output_type": "display_data"
    }
   ],
   "source": [
    "sns.countplot(x='relevance', data=df_sessions_train)\n",
    "plt.title('relevance distribution')\n",
    "plt.show()"
   ]
  },
  {
   "cell_type": "markdown",
   "id": "0abee677",
   "metadata": {
    "papermill": {
     "duration": 0.018104,
     "end_time": "2025-10-28T16:42:41.034331",
     "exception": false,
     "start_time": "2025-10-28T16:42:41.016227",
     "status": "completed"
    },
    "tags": []
   },
   "source": [
    "#### It is also logical that at each stage from viewing to purchasing, the amount of relevance will decrease significantly."
   ]
  },
  {
   "cell_type": "code",
   "execution_count": 17,
   "id": "480febb6",
   "metadata": {
    "execution": {
     "iopub.execute_input": "2025-10-28T16:42:41.071065Z",
     "iopub.status.busy": "2025-10-28T16:42:41.070750Z",
     "iopub.status.idle": "2025-10-28T16:42:41.903077Z",
     "shell.execute_reply": "2025-10-28T16:42:41.901651Z"
    },
    "papermill": {
     "duration": 0.853948,
     "end_time": "2025-10-28T16:42:41.905803",
     "exception": false,
     "start_time": "2025-10-28T16:42:41.051855",
     "status": "completed"
    },
    "tags": []
   },
   "outputs": [
    {
     "name": "stderr",
     "output_type": "stream",
     "text": [
      "/usr/local/lib/python3.11/dist-packages/seaborn/_oldcore.py:1119: FutureWarning: use_inf_as_na option is deprecated and will be removed in a future version. Convert inf values to NaN before operating instead.\n",
      "  with pd.option_context('mode.use_inf_as_na', True):\n"
     ]
    },
    {
     "data": {
      "image/png": "[encoded data removed]",
      "text/plain": [
       "<Figure size 1200x600 with 1 Axes>"
      ]
     },
     "metadata": {},
     "output_type": "display_data"
    }
   ],
   "source": [
    "session_counts = df_sessions_train.groupby('search_number')['product_id'].count()\n",
    "sns.histplot(session_counts, bins=50)\n",
    "plt.title('Number of products per session')\n",
    "plt.xlabel('Number of products')\n",
    "plt.show()"
   ]
  },
  {
   "cell_type": "code",
   "execution_count": 18,
   "id": "e12fb8d9",
   "metadata": {
    "execution": {
     "iopub.execute_input": "2025-10-28T16:42:41.949922Z",
     "iopub.status.busy": "2025-10-28T16:42:41.949574Z",
     "iopub.status.idle": "2025-10-28T16:42:41.959221Z",
     "shell.execute_reply": "2025-10-28T16:42:41.957834Z"
    },
    "papermill": {
     "duration": 0.034854,
     "end_time": "2025-10-28T16:42:41.960903",
     "exception": false,
     "start_time": "2025-10-28T16:42:41.926049",
     "status": "completed"
    },
    "tags": []
   },
   "outputs": [
    {
     "data": {
      "text/plain": [
       "search_number\n",
       "347404    1169\n",
       "Name: product_id, dtype: int64"
      ]
     },
     "execution_count": 18,
     "metadata": {},
     "output_type": "execute_result"
    }
   ],
   "source": [
    "session_counts[session_counts>1000]"
   ]
  },
  {
   "cell_type": "markdown",
   "id": "c4d5501c",
   "metadata": {
    "papermill": {
     "duration": 0.019288,
     "end_time": "2025-10-28T16:42:42.000023",
     "exception": false,
     "start_time": "2025-10-28T16:42:41.980735",
     "status": "completed"
    },
    "tags": []
   },
   "source": [
    "#### What is also logical is that most often the sessions will be short, so most often there will be few products viewed"
   ]
  },
  {
   "cell_type": "code",
   "execution_count": 19,
   "id": "572ce3d7",
   "metadata": {
    "execution": {
     "iopub.execute_input": "2025-10-28T16:42:42.040838Z",
     "iopub.status.busy": "2025-10-28T16:42:42.040466Z",
     "iopub.status.idle": "2025-10-28T16:42:42.065275Z",
     "shell.execute_reply": "2025-10-28T16:42:42.063858Z"
    },
    "papermill": {
     "duration": 0.047371,
     "end_time": "2025-10-28T16:42:42.067098",
     "exception": false,
     "start_time": "2025-10-28T16:42:42.019727",
     "status": "completed"
    },
    "tags": []
   },
   "outputs": [
    {
     "data": {
      "text/html": [
       "<div>\n",
       "<style scoped>\n",
       "    .dataframe tbody tr th:only-of-type {\n",
       "        vertical-align: middle;\n",
       "    }\n",
       "\n",
       "    .dataframe tbody tr th {\n",
       "        vertical-align: top;\n",
       "    }\n",
       "\n",
       "    .dataframe thead th {\n",
       "        text-align: right;\n",
       "    }\n",
       "</style>\n",
       "<table border=\"1\" class=\"dataframe\">\n",
       "  <thead>\n",
       "    <tr style=\"text-align: right;\">\n",
       "      <th></th>\n",
       "      <th>query</th>\n",
       "      <th>date</th>\n",
       "      <th>device</th>\n",
       "      <th>user_number</th>\n",
       "      <th>search_number</th>\n",
       "      <th>product_id</th>\n",
       "      <th>selected_category_id</th>\n",
       "      <th>product_position</th>\n",
       "      <th>response_products</th>\n",
       "      <th>response_time</th>\n",
       "      <th>browse_time</th>\n",
       "      <th>filters_applied</th>\n",
       "      <th>price_is_discounted</th>\n",
       "      <th>price_is_super</th>\n",
       "      <th>price</th>\n",
       "      <th>price_discount</th>\n",
       "      <th>available</th>\n",
       "      <th>relevance</th>\n",
       "    </tr>\n",
       "  </thead>\n",
       "  <tbody>\n",
       "    <tr>\n",
       "      <th>6216189</th>\n",
       "      <td>средтва дл стирки</td>\n",
       "      <td>2024-10-23</td>\n",
       "      <td>app</td>\n",
       "      <td>60610</td>\n",
       "      <td>347404</td>\n",
       "      <td>51692</td>\n",
       "      <td>0</td>\n",
       "      <td>313</td>\n",
       "      <td>30</td>\n",
       "      <td>306</td>\n",
       "      <td>1931</td>\n",
       "      <td>0</td>\n",
       "      <td>0</td>\n",
       "      <td>0</td>\n",
       "      <td>2466</td>\n",
       "      <td>0</td>\n",
       "      <td>2</td>\n",
       "      <td>0</td>\n",
       "    </tr>\n",
       "    <tr>\n",
       "      <th>6216190</th>\n",
       "      <td>средтва дл стирки</td>\n",
       "      <td>2024-10-23</td>\n",
       "      <td>app</td>\n",
       "      <td>60610</td>\n",
       "      <td>347404</td>\n",
       "      <td>51694</td>\n",
       "      <td>0</td>\n",
       "      <td>151</td>\n",
       "      <td>30</td>\n",
       "      <td>330</td>\n",
       "      <td>1931</td>\n",
       "      <td>0</td>\n",
       "      <td>0</td>\n",
       "      <td>0</td>\n",
       "      <td>2409</td>\n",
       "      <td>0</td>\n",
       "      <td>2</td>\n",
       "      <td>0</td>\n",
       "    </tr>\n",
       "    <tr>\n",
       "      <th>6216191</th>\n",
       "      <td>средтва дл стирки</td>\n",
       "      <td>2024-10-23</td>\n",
       "      <td>app</td>\n",
       "      <td>60610</td>\n",
       "      <td>347404</td>\n",
       "      <td>51699</td>\n",
       "      <td>0</td>\n",
       "      <td>535</td>\n",
       "      <td>30</td>\n",
       "      <td>365</td>\n",
       "      <td>1931</td>\n",
       "      <td>0</td>\n",
       "      <td>1</td>\n",
       "      <td>1</td>\n",
       "      <td>3099</td>\n",
       "      <td>0</td>\n",
       "      <td>2</td>\n",
       "      <td>0</td>\n",
       "    </tr>\n",
       "    <tr>\n",
       "      <th>6216192</th>\n",
       "      <td>средтва дл стирки</td>\n",
       "      <td>2024-10-23</td>\n",
       "      <td>app</td>\n",
       "      <td>60610</td>\n",
       "      <td>347404</td>\n",
       "      <td>51700</td>\n",
       "      <td>0</td>\n",
       "      <td>405</td>\n",
       "      <td>30</td>\n",
       "      <td>482</td>\n",
       "      <td>1931</td>\n",
       "      <td>0</td>\n",
       "      <td>0</td>\n",
       "      <td>0</td>\n",
       "      <td>3567</td>\n",
       "      <td>0</td>\n",
       "      <td>2</td>\n",
       "      <td>0</td>\n",
       "    </tr>\n",
       "    <tr>\n",
       "      <th>6216193</th>\n",
       "      <td>средтва дл стирки</td>\n",
       "      <td>2024-10-23</td>\n",
       "      <td>app</td>\n",
       "      <td>60610</td>\n",
       "      <td>347404</td>\n",
       "      <td>51703</td>\n",
       "      <td>0</td>\n",
       "      <td>9</td>\n",
       "      <td>30</td>\n",
       "      <td>256</td>\n",
       "      <td>1931</td>\n",
       "      <td>0</td>\n",
       "      <td>1</td>\n",
       "      <td>0</td>\n",
       "      <td>3590</td>\n",
       "      <td>660</td>\n",
       "      <td>2</td>\n",
       "      <td>0</td>\n",
       "    </tr>\n",
       "    <tr>\n",
       "      <th>...</th>\n",
       "      <td>...</td>\n",
       "      <td>...</td>\n",
       "      <td>...</td>\n",
       "      <td>...</td>\n",
       "      <td>...</td>\n",
       "      <td>...</td>\n",
       "      <td>...</td>\n",
       "      <td>...</td>\n",
       "      <td>...</td>\n",
       "      <td>...</td>\n",
       "      <td>...</td>\n",
       "      <td>...</td>\n",
       "      <td>...</td>\n",
       "      <td>...</td>\n",
       "      <td>...</td>\n",
       "      <td>...</td>\n",
       "      <td>...</td>\n",
       "      <td>...</td>\n",
       "    </tr>\n",
       "    <tr>\n",
       "      <th>6217353</th>\n",
       "      <td>средтва дл стирки</td>\n",
       "      <td>2024-10-23</td>\n",
       "      <td>app</td>\n",
       "      <td>60610</td>\n",
       "      <td>347404</td>\n",
       "      <td>65558004</td>\n",
       "      <td>0</td>\n",
       "      <td>1174</td>\n",
       "      <td>30</td>\n",
       "      <td>378</td>\n",
       "      <td>1931</td>\n",
       "      <td>0</td>\n",
       "      <td>0</td>\n",
       "      <td>0</td>\n",
       "      <td>1357</td>\n",
       "      <td>0</td>\n",
       "      <td>2</td>\n",
       "      <td>0</td>\n",
       "    </tr>\n",
       "    <tr>\n",
       "      <th>6217354</th>\n",
       "      <td>средтва дл стирки</td>\n",
       "      <td>2024-10-23</td>\n",
       "      <td>app</td>\n",
       "      <td>60610</td>\n",
       "      <td>347404</td>\n",
       "      <td>65567520</td>\n",
       "      <td>0</td>\n",
       "      <td>1393</td>\n",
       "      <td>30</td>\n",
       "      <td>338</td>\n",
       "      <td>1931</td>\n",
       "      <td>0</td>\n",
       "      <td>0</td>\n",
       "      <td>1</td>\n",
       "      <td>0</td>\n",
       "      <td>0</td>\n",
       "      <td>0</td>\n",
       "      <td>0</td>\n",
       "    </tr>\n",
       "    <tr>\n",
       "      <th>6217355</th>\n",
       "      <td>средтва дл стирки</td>\n",
       "      <td>2024-10-23</td>\n",
       "      <td>app</td>\n",
       "      <td>60610</td>\n",
       "      <td>347404</td>\n",
       "      <td>65567749</td>\n",
       "      <td>0</td>\n",
       "      <td>1130</td>\n",
       "      <td>30</td>\n",
       "      <td>288</td>\n",
       "      <td>1931</td>\n",
       "      <td>0</td>\n",
       "      <td>0</td>\n",
       "      <td>0</td>\n",
       "      <td>609</td>\n",
       "      <td>0</td>\n",
       "      <td>2</td>\n",
       "      <td>0</td>\n",
       "    </tr>\n",
       "    <tr>\n",
       "      <th>6217356</th>\n",
       "      <td>средтва дл стирки</td>\n",
       "      <td>2024-10-23</td>\n",
       "      <td>app</td>\n",
       "      <td>60610</td>\n",
       "      <td>347404</td>\n",
       "      <td>65590339</td>\n",
       "      <td>0</td>\n",
       "      <td>519</td>\n",
       "      <td>30</td>\n",
       "      <td>365</td>\n",
       "      <td>1931</td>\n",
       "      <td>0</td>\n",
       "      <td>0</td>\n",
       "      <td>0</td>\n",
       "      <td>2976</td>\n",
       "      <td>0</td>\n",
       "      <td>2</td>\n",
       "      <td>0</td>\n",
       "    </tr>\n",
       "    <tr>\n",
       "      <th>6217357</th>\n",
       "      <td>средтва дл стирки</td>\n",
       "      <td>2024-10-23</td>\n",
       "      <td>app</td>\n",
       "      <td>60610</td>\n",
       "      <td>347404</td>\n",
       "      <td>65590344</td>\n",
       "      <td>0</td>\n",
       "      <td>837</td>\n",
       "      <td>30</td>\n",
       "      <td>363</td>\n",
       "      <td>1931</td>\n",
       "      <td>0</td>\n",
       "      <td>0</td>\n",
       "      <td>0</td>\n",
       "      <td>3719</td>\n",
       "      <td>0</td>\n",
       "      <td>2</td>\n",
       "      <td>0</td>\n",
       "    </tr>\n",
       "  </tbody>\n",
       "</table>\n",
       "<p>1169 rows × 18 columns</p>\n",
       "</div>"
      ],
      "text/plain": [
       "                     query        date device  user_number  search_number  \\\n",
       "6216189  средтва дл стирки  2024-10-23    app        60610         347404   \n",
       "6216190  средтва дл стирки  2024-10-23    app        60610         347404   \n",
       "6216191  средтва дл стирки  2024-10-23    app        60610         347404   \n",
       "6216192  средтва дл стирки  2024-10-23    app        60610         347404   \n",
       "6216193  средтва дл стирки  2024-10-23    app        60610         347404   \n",
       "...                    ...         ...    ...          ...            ...   \n",
       "6217353  средтва дл стирки  2024-10-23    app        60610         347404   \n",
       "6217354  средтва дл стирки  2024-10-23    app        60610         347404   \n",
       "6217355  средтва дл стирки  2024-10-23    app        60610         347404   \n",
       "6217356  средтва дл стирки  2024-10-23    app        60610         347404   \n",
       "6217357  средтва дл стирки  2024-10-23    app        60610         347404   \n",
       "\n",
       "         product_id  selected_category_id  product_position  \\\n",
       "6216189       51692                     0               313   \n",
       "6216190       51694                     0               151   \n",
       "6216191       51699                     0               535   \n",
       "6216192       51700                     0               405   \n",
       "6216193       51703                     0                 9   \n",
       "...             ...                   ...               ...   \n",
       "6217353    65558004                     0              1174   \n",
       "6217354    65567520                     0              1393   \n",
       "6217355    65567749                     0              1130   \n",
       "6217356    65590339                     0               519   \n",
       "6217357    65590344                     0               837   \n",
       "\n",
       "         response_products  response_time  browse_time  filters_applied  \\\n",
       "6216189                 30            306         1931                0   \n",
       "6216190                 30            330         1931                0   \n",
       "6216191                 30            365         1931                0   \n",
       "6216192                 30            482         1931                0   \n",
       "6216193                 30            256         1931                0   \n",
       "...                    ...            ...          ...              ...   \n",
       "6217353                 30            378         1931                0   \n",
       "6217354                 30            338         1931                0   \n",
       "6217355                 30            288         1931                0   \n",
       "6217356                 30            365         1931                0   \n",
       "6217357                 30            363         1931                0   \n",
       "\n",
       "         price_is_discounted  price_is_super  price  price_discount  \\\n",
       "6216189                    0               0   2466               0   \n",
       "6216190                    0               0   2409               0   \n",
       "6216191                    1               1   3099               0   \n",
       "6216192                    0               0   3567               0   \n",
       "6216193                    1               0   3590             660   \n",
       "...                      ...             ...    ...             ...   \n",
       "6217353                    0               0   1357               0   \n",
       "6217354                    0               1      0               0   \n",
       "6217355                    0               0    609               0   \n",
       "6217356                    0               0   2976               0   \n",
       "6217357                    0               0   3719               0   \n",
       "\n",
       "         available  relevance  \n",
       "6216189          2          0  \n",
       "6216190          2          0  \n",
       "6216191          2          0  \n",
       "6216192          2          0  \n",
       "6216193          2          0  \n",
       "...            ...        ...  \n",
       "6217353          2          0  \n",
       "6217354          0          0  \n",
       "6217355          2          0  \n",
       "6217356          2          0  \n",
       "6217357          2          0  \n",
       "\n",
       "[1169 rows x 18 columns]"
      ]
     },
     "execution_count": 19,
     "metadata": {},
     "output_type": "execute_result"
    }
   ],
   "source": [
    "# Let's further analyze the suspiciously long session\n",
    "pd.set_option('display.max_columns', None) \n",
    "pd.set_option('display.max_colwidth', None)\n",
    "long_session = df_sessions_train[df_sessions_train['search_number'] == 347404]\n",
    "long_session"
   ]
  },
  {
   "cell_type": "code",
   "execution_count": 20,
   "id": "48f93290",
   "metadata": {
    "execution": {
     "iopub.execute_input": "2025-10-28T16:42:42.110558Z",
     "iopub.status.busy": "2025-10-28T16:42:42.110081Z",
     "iopub.status.idle": "2025-10-28T16:42:42.115915Z",
     "shell.execute_reply": "2025-10-28T16:42:42.114781Z"
    },
    "papermill": {
     "duration": 0.02942,
     "end_time": "2025-10-28T16:42:42.117920",
     "exception": false,
     "start_time": "2025-10-28T16:42:42.088500",
     "status": "completed"
    },
    "tags": []
   },
   "outputs": [],
   "source": [
    "pd.reset_option('display.max_colwidth')\n",
    "pd.reset_option('display.max_columns')"
   ]
  },
  {
   "cell_type": "code",
   "execution_count": 21,
   "id": "a03930e4",
   "metadata": {
    "execution": {
     "iopub.execute_input": "2025-10-28T16:42:42.163626Z",
     "iopub.status.busy": "2025-10-28T16:42:42.162682Z",
     "iopub.status.idle": "2025-10-28T16:42:42.176138Z",
     "shell.execute_reply": "2025-10-28T16:42:42.175006Z"
    },
    "papermill": {
     "duration": 0.038851,
     "end_time": "2025-10-28T16:42:42.178000",
     "exception": false,
     "start_time": "2025-10-28T16:42:42.139149",
     "status": "completed"
    },
    "tags": []
   },
   "outputs": [
    {
     "data": {
      "text/html": [
       "<div>\n",
       "<style scoped>\n",
       "    .dataframe tbody tr th:only-of-type {\n",
       "        vertical-align: middle;\n",
       "    }\n",
       "\n",
       "    .dataframe tbody tr th {\n",
       "        vertical-align: top;\n",
       "    }\n",
       "\n",
       "    .dataframe thead th {\n",
       "        text-align: right;\n",
       "    }\n",
       "</style>\n",
       "<table border=\"1\" class=\"dataframe\">\n",
       "  <thead>\n",
       "    <tr style=\"text-align: right;\">\n",
       "      <th></th>\n",
       "      <th>query</th>\n",
       "      <th>date</th>\n",
       "      <th>device</th>\n",
       "      <th>user_number</th>\n",
       "      <th>search_number</th>\n",
       "      <th>product_id</th>\n",
       "      <th>selected_category_id</th>\n",
       "      <th>product_position</th>\n",
       "      <th>response_products</th>\n",
       "      <th>response_time</th>\n",
       "      <th>browse_time</th>\n",
       "      <th>filters_applied</th>\n",
       "      <th>price_is_discounted</th>\n",
       "      <th>price_is_super</th>\n",
       "      <th>price</th>\n",
       "      <th>price_discount</th>\n",
       "      <th>available</th>\n",
       "      <th>relevance</th>\n",
       "    </tr>\n",
       "  </thead>\n",
       "  <tbody>\n",
       "  </tbody>\n",
       "</table>\n",
       "</div>"
      ],
      "text/plain": [
       "Empty DataFrame\n",
       "Columns: [query, date, device, user_number, search_number, product_id, selected_category_id, product_position, response_products, response_time, browse_time, filters_applied, price_is_discounted, price_is_super, price, price_discount, available, relevance]\n",
       "Index: []"
      ]
     },
     "execution_count": 21,
     "metadata": {},
     "output_type": "execute_result"
    }
   ],
   "source": [
    "long_session[long_session['browse_time'] != 1931]"
   ]
  },
  {
   "cell_type": "code",
   "execution_count": 22,
   "id": "6efb1cbb",
   "metadata": {
    "execution": {
     "iopub.execute_input": "2025-10-28T16:42:42.223698Z",
     "iopub.status.busy": "2025-10-28T16:42:42.222109Z",
     "iopub.status.idle": "2025-10-28T16:42:42.237576Z",
     "shell.execute_reply": "2025-10-28T16:42:42.236397Z"
    },
    "papermill": {
     "duration": 0.039696,
     "end_time": "2025-10-28T16:42:42.239443",
     "exception": false,
     "start_time": "2025-10-28T16:42:42.199747",
     "status": "completed"
    },
    "tags": []
   },
   "outputs": [
    {
     "data": {
      "text/html": [
       "<div>\n",
       "<style scoped>\n",
       "    .dataframe tbody tr th:only-of-type {\n",
       "        vertical-align: middle;\n",
       "    }\n",
       "\n",
       "    .dataframe tbody tr th {\n",
       "        vertical-align: top;\n",
       "    }\n",
       "\n",
       "    .dataframe thead th {\n",
       "        text-align: right;\n",
       "    }\n",
       "</style>\n",
       "<table border=\"1\" class=\"dataframe\">\n",
       "  <thead>\n",
       "    <tr style=\"text-align: right;\">\n",
       "      <th></th>\n",
       "      <th>query</th>\n",
       "      <th>date</th>\n",
       "      <th>device</th>\n",
       "      <th>user_number</th>\n",
       "      <th>search_number</th>\n",
       "      <th>product_id</th>\n",
       "      <th>selected_category_id</th>\n",
       "      <th>product_position</th>\n",
       "      <th>response_products</th>\n",
       "      <th>response_time</th>\n",
       "      <th>browse_time</th>\n",
       "      <th>filters_applied</th>\n",
       "      <th>price_is_discounted</th>\n",
       "      <th>price_is_super</th>\n",
       "      <th>price</th>\n",
       "      <th>price_discount</th>\n",
       "      <th>available</th>\n",
       "      <th>relevance</th>\n",
       "    </tr>\n",
       "  </thead>\n",
       "  <tbody>\n",
       "    <tr>\n",
       "      <th>6216315</th>\n",
       "      <td>средтва дл стирки</td>\n",
       "      <td>2024-10-23</td>\n",
       "      <td>app</td>\n",
       "      <td>60610</td>\n",
       "      <td>347404</td>\n",
       "      <td>711564</td>\n",
       "      <td>0</td>\n",
       "      <td>273</td>\n",
       "      <td>30</td>\n",
       "      <td>241</td>\n",
       "      <td>1931</td>\n",
       "      <td>0</td>\n",
       "      <td>0</td>\n",
       "      <td>0</td>\n",
       "      <td>9584</td>\n",
       "      <td>0</td>\n",
       "      <td>2</td>\n",
       "      <td>1</td>\n",
       "    </tr>\n",
       "    <tr>\n",
       "      <th>6216911</th>\n",
       "      <td>средтва дл стирки</td>\n",
       "      <td>2024-10-23</td>\n",
       "      <td>app</td>\n",
       "      <td>60610</td>\n",
       "      <td>347404</td>\n",
       "      <td>8514774</td>\n",
       "      <td>0</td>\n",
       "      <td>1262</td>\n",
       "      <td>30</td>\n",
       "      <td>457</td>\n",
       "      <td>1931</td>\n",
       "      <td>0</td>\n",
       "      <td>0</td>\n",
       "      <td>0</td>\n",
       "      <td>0</td>\n",
       "      <td>0</td>\n",
       "      <td>0</td>\n",
       "      <td>1</td>\n",
       "    </tr>\n",
       "    <tr>\n",
       "      <th>6217082</th>\n",
       "      <td>средтва дл стирки</td>\n",
       "      <td>2024-10-23</td>\n",
       "      <td>app</td>\n",
       "      <td>60610</td>\n",
       "      <td>347404</td>\n",
       "      <td>8865141</td>\n",
       "      <td>0</td>\n",
       "      <td>285</td>\n",
       "      <td>30</td>\n",
       "      <td>241</td>\n",
       "      <td>1931</td>\n",
       "      <td>0</td>\n",
       "      <td>0</td>\n",
       "      <td>0</td>\n",
       "      <td>10976</td>\n",
       "      <td>0</td>\n",
       "      <td>2</td>\n",
       "      <td>1</td>\n",
       "    </tr>\n",
       "    <tr>\n",
       "      <th>6217144</th>\n",
       "      <td>средтва дл стирки</td>\n",
       "      <td>2024-10-23</td>\n",
       "      <td>app</td>\n",
       "      <td>60610</td>\n",
       "      <td>347404</td>\n",
       "      <td>9026313</td>\n",
       "      <td>0</td>\n",
       "      <td>314</td>\n",
       "      <td>30</td>\n",
       "      <td>306</td>\n",
       "      <td>1931</td>\n",
       "      <td>0</td>\n",
       "      <td>0</td>\n",
       "      <td>0</td>\n",
       "      <td>11151</td>\n",
       "      <td>0</td>\n",
       "      <td>2</td>\n",
       "      <td>1</td>\n",
       "    </tr>\n",
       "  </tbody>\n",
       "</table>\n",
       "</div>"
      ],
      "text/plain": [
       "                     query        date device  user_number  search_number  \\\n",
       "6216315  средтва дл стирки  2024-10-23    app        60610         347404   \n",
       "6216911  средтва дл стирки  2024-10-23    app        60610         347404   \n",
       "6217082  средтва дл стирки  2024-10-23    app        60610         347404   \n",
       "6217144  средтва дл стирки  2024-10-23    app        60610         347404   \n",
       "\n",
       "         product_id  selected_category_id  product_position  \\\n",
       "6216315      711564                     0               273   \n",
       "6216911     8514774                     0              1262   \n",
       "6217082     8865141                     0               285   \n",
       "6217144     9026313                     0               314   \n",
       "\n",
       "         response_products  response_time  browse_time  filters_applied  \\\n",
       "6216315                 30            241         1931                0   \n",
       "6216911                 30            457         1931                0   \n",
       "6217082                 30            241         1931                0   \n",
       "6217144                 30            306         1931                0   \n",
       "\n",
       "         price_is_discounted  price_is_super  price  price_discount  \\\n",
       "6216315                    0               0   9584               0   \n",
       "6216911                    0               0      0               0   \n",
       "6217082                    0               0  10976               0   \n",
       "6217144                    0               0  11151               0   \n",
       "\n",
       "         available  relevance  \n",
       "6216315          2          1  \n",
       "6216911          0          1  \n",
       "6217082          2          1  \n",
       "6217144          2          1  "
      ]
     },
     "execution_count": 22,
     "metadata": {},
     "output_type": "execute_result"
    }
   ],
   "source": [
    "long_session[long_session['relevance'] != 0]"
   ]
  },
  {
   "cell_type": "markdown",
   "id": "1d8c35ea",
   "metadata": {
    "papermill": {
     "duration": 0.019434,
     "end_time": "2025-10-28T16:42:42.278958",
     "exception": false,
     "start_time": "2025-10-28T16:42:42.259524",
     "status": "completed"
    },
    "tags": []
   },
   "source": [
    "#### Since the user's time on the page is the same for all 1169 products (1931), and not a single product was purchased or even added to the cart, then we are most likely dealing with a parser."
   ]
  },
  {
   "cell_type": "code",
   "execution_count": 23,
   "id": "30005d4f",
   "metadata": {
    "execution": {
     "iopub.execute_input": "2025-10-28T16:42:42.326882Z",
     "iopub.status.busy": "2025-10-28T16:42:42.325860Z",
     "iopub.status.idle": "2025-10-28T16:42:46.676778Z",
     "shell.execute_reply": "2025-10-28T16:42:46.675077Z"
    },
    "papermill": {
     "duration": 4.378088,
     "end_time": "2025-10-28T16:42:46.678806",
     "exception": false,
     "start_time": "2025-10-28T16:42:42.300718",
     "status": "completed"
    },
    "tags": []
   },
   "outputs": [
    {
     "name": "stderr",
     "output_type": "stream",
     "text": [
      "/usr/local/lib/python3.11/dist-packages/seaborn/_oldcore.py:1119: FutureWarning: use_inf_as_na option is deprecated and will be removed in a future version. Convert inf values to NaN before operating instead.\n",
      "  with pd.option_context('mode.use_inf_as_na', True):\n"
     ]
    },
    {
     "data": {
      "image/png": "[encoded data removed]",
      "text/plain": [
       "<Figure size 1200x600 with 1 Axes>"
      ]
     },
     "metadata": {},
     "output_type": "display_data"
    }
   ],
   "source": [
    "sns.histplot(df_sessions_train['product_position'], bins=50)\n",
    "plt.title('Distribution of product positions in search results')\n",
    "plt.xlabel('Product position')\n",
    "plt.show()"
   ]
  },
  {
   "cell_type": "markdown",
   "id": "7b946b09",
   "metadata": {
    "papermill": {
     "duration": 0.020554,
     "end_time": "2025-10-28T16:42:46.721953",
     "exception": false,
     "start_time": "2025-10-28T16:42:46.701399",
     "status": "completed"
    },
    "tags": []
   },
   "source": [
    "#### Users mostly interact with the products that are shown first (nothing unusual either)"
   ]
  },
  {
   "cell_type": "code",
   "execution_count": 24,
   "id": "e3c8c3af",
   "metadata": {
    "execution": {
     "iopub.execute_input": "2025-10-28T16:42:46.766681Z",
     "iopub.status.busy": "2025-10-28T16:42:46.766275Z",
     "iopub.status.idle": "2025-10-28T16:42:51.485039Z",
     "shell.execute_reply": "2025-10-28T16:42:51.483588Z"
    },
    "papermill": {
     "duration": 4.745797,
     "end_time": "2025-10-28T16:42:51.487566",
     "exception": false,
     "start_time": "2025-10-28T16:42:46.741769",
     "status": "completed"
    },
    "tags": []
   },
   "outputs": [
    {
     "name": "stderr",
     "output_type": "stream",
     "text": [
      "/usr/local/lib/python3.11/dist-packages/seaborn/_oldcore.py:1119: FutureWarning: use_inf_as_na option is deprecated and will be removed in a future version. Convert inf values to NaN before operating instead.\n",
      "  with pd.option_context('mode.use_inf_as_na', True):\n"
     ]
    },
    {
     "data": {
      "image/png": "[encoded data removed]",
      "text/plain": [
       "<Figure size 1200x600 with 1 Axes>"
      ]
     },
     "metadata": {},
     "output_type": "display_data"
    }
   ],
   "source": [
    "sns.histplot(df_sessions_train['price'], bins=50)\n",
    "plt.title('Distribution of commodity prices')\n",
    "plt.xlabel('Price')\n",
    "plt.show()"
   ]
  },
  {
   "cell_type": "markdown",
   "id": "3cd46ab8",
   "metadata": {
    "papermill": {
     "duration": 0.022449,
     "end_time": "2025-10-28T16:42:51.538886",
     "exception": false,
     "start_time": "2025-10-28T16:42:51.516437",
     "status": "completed"
    },
    "tags": []
   },
   "source": [
    "#### Price outliers (described earlier, filling error)"
   ]
  },
  {
   "cell_type": "code",
   "execution_count": 25,
   "id": "d2c0e827",
   "metadata": {
    "execution": {
     "iopub.execute_input": "2025-10-28T16:42:51.583178Z",
     "iopub.status.busy": "2025-10-28T16:42:51.582857Z",
     "iopub.status.idle": "2025-10-28T16:43:04.552547Z",
     "shell.execute_reply": "2025-10-28T16:43:04.551437Z"
    },
    "papermill": {
     "duration": 12.992685,
     "end_time": "2025-10-28T16:43:04.554397",
     "exception": false,
     "start_time": "2025-10-28T16:42:51.561712",
     "status": "completed"
    },
    "tags": []
   },
   "outputs": [
    {
     "name": "stderr",
     "output_type": "stream",
     "text": [
      "/usr/local/lib/python3.11/dist-packages/seaborn/_oldcore.py:1119: FutureWarning: use_inf_as_na option is deprecated and will be removed in a future version. Convert inf values to NaN before operating instead.\n",
      "  with pd.option_context('mode.use_inf_as_na', True):\n",
      "/usr/local/lib/python3.11/dist-packages/seaborn/_oldcore.py:1119: FutureWarning: use_inf_as_na option is deprecated and will be removed in a future version. Convert inf values to NaN before operating instead.\n",
      "  with pd.option_context('mode.use_inf_as_na', True):\n",
      "/usr/local/lib/python3.11/dist-packages/seaborn/_oldcore.py:1119: FutureWarning: use_inf_as_na option is deprecated and will be removed in a future version. Convert inf values to NaN before operating instead.\n",
      "  with pd.option_context('mode.use_inf_as_na', True):\n"
     ]
    },
    {
     "data": {
      "image/png": "[encoded data removed]",
      "text/plain": [
       "<Figure size 1800x500 with 3 Axes>"
      ]
     },
     "metadata": {},
     "output_type": "display_data"
    }
   ],
   "source": [
    "fig, axes = plt.subplots(1,3, figsize=(18,5))\n",
    "\n",
    "sns.histplot(df_sessions_train['available'], bins=3, discrete=True, ax=axes[0])\n",
    "axes[0].set_title('Product availability')\n",
    "\n",
    "sns.histplot(df_sessions_train['price_is_discounted'], bins=2, discrete=True, ax=axes[1])\n",
    "axes[1].set_title('Discounted products')\n",
    "\n",
    "sns.histplot(df_sessions_train['price_is_super'], bins=2, discrete=True, ax=axes[2])\n",
    "axes[2].set_title('Promotional items')\n",
    "\n",
    "plt.show()"
   ]
  },
  {
   "cell_type": "code",
   "execution_count": 26,
   "id": "19ce72ed",
   "metadata": {
    "execution": {
     "iopub.execute_input": "2025-10-28T16:43:04.601188Z",
     "iopub.status.busy": "2025-10-28T16:43:04.600825Z",
     "iopub.status.idle": "2025-10-28T16:43:13.722012Z",
     "shell.execute_reply": "2025-10-28T16:43:13.720557Z"
    },
    "papermill": {
     "duration": 9.145669,
     "end_time": "2025-10-28T16:43:13.723620",
     "exception": false,
     "start_time": "2025-10-28T16:43:04.577951",
     "status": "completed"
    },
    "tags": []
   },
   "outputs": [
    {
     "name": "stderr",
     "output_type": "stream",
     "text": [
      "/usr/local/lib/python3.11/dist-packages/seaborn/_oldcore.py:1119: FutureWarning: use_inf_as_na option is deprecated and will be removed in a future version. Convert inf values to NaN before operating instead.\n",
      "  with pd.option_context('mode.use_inf_as_na', True):\n",
      "/usr/local/lib/python3.11/dist-packages/seaborn/_oldcore.py:1119: FutureWarning: use_inf_as_na option is deprecated and will be removed in a future version. Convert inf values to NaN before operating instead.\n",
      "  with pd.option_context('mode.use_inf_as_na', True):\n"
     ]
    },
    {
     "data": {
      "image/png": "[encoded data removed]",
      "text/plain": [
       "<Figure size 1800x500 with 2 Axes>"
      ]
     },
     "metadata": {},
     "output_type": "display_data"
    }
   ],
   "source": [
    "fig, axes = plt.subplots(1,2, figsize=(18,5))\n",
    "\n",
    "sns.histplot(df_sessions_train['response_time'], bins=50, ax=axes[0])\n",
    "axes[0].set_title('response_time distribution ')\n",
    "\n",
    "sns.histplot(df_sessions_train['browse_time'], bins=50, ax=axes[1])\n",
    "axes[1].set_title('browse_time distribution')\n",
    "\n",
    "plt.show()"
   ]
  },
  {
   "cell_type": "markdown",
   "id": "e6af5bd3",
   "metadata": {
    "papermill": {
     "duration": 0.022306,
     "end_time": "2025-10-28T16:43:13.771192",
     "exception": false,
     "start_time": "2025-10-28T16:43:13.748886",
     "status": "completed"
    },
    "tags": []
   },
   "source": [
    "# **3) Feature engineering**"
   ]
  },
  {
   "cell_type": "markdown",
   "id": "2348cf87",
   "metadata": {
    "papermill": {
     "duration": 0.024282,
     "end_time": "2025-10-28T16:43:13.818343",
     "exception": false,
     "start_time": "2025-10-28T16:43:13.794061",
     "status": "completed"
    },
    "tags": []
   },
   "source": [
    "#### The category_name_4 column is the most detailed and refined relative to other category columns, so we use it in conjunction with the type column to create new properties."
   ]
  },
  {
   "cell_type": "code",
   "execution_count": 27,
   "id": "0898c131",
   "metadata": {
    "execution": {
     "iopub.execute_input": "2025-10-28T16:43:13.864969Z",
     "iopub.status.busy": "2025-10-28T16:43:13.864580Z",
     "iopub.status.idle": "2025-10-28T16:43:14.761460Z",
     "shell.execute_reply": "2025-10-28T16:43:14.760291Z"
    },
    "papermill": {
     "duration": 0.923019,
     "end_time": "2025-10-28T16:43:14.763283",
     "exception": false,
     "start_time": "2025-10-28T16:43:13.840264",
     "status": "completed"
    },
    "tags": []
   },
   "outputs": [],
   "source": [
    "df_sessions_train['date'] = pd.to_datetime(df_sessions_train['date'])"
   ]
  },
  {
   "cell_type": "code",
   "execution_count": 28,
   "id": "3e2b3e67",
   "metadata": {
    "execution": {
     "iopub.execute_input": "2025-10-28T16:43:14.810151Z",
     "iopub.status.busy": "2025-10-28T16:43:14.809852Z",
     "iopub.status.idle": "2025-10-28T16:43:14.816329Z",
     "shell.execute_reply": "2025-10-28T16:43:14.815044Z"
    },
    "papermill": {
     "duration": 0.0317,
     "end_time": "2025-10-28T16:43:14.818017",
     "exception": false,
     "start_time": "2025-10-28T16:43:14.786317",
     "status": "completed"
    },
    "tags": []
   },
   "outputs": [],
   "source": [
    "def clean_text(text, is_cat_id, morph, stopwords_ru):\n",
    "    if is_cat_id == 1:  # For the category_name_i columns, it's worth removing the slash, since each of the words it combines can be used to create new properties.\n",
    "        text = text.replace(\"/\", \" \")\n",
    "    text = text.strip().lower() # Removing spaces and line breaks and convert to lowercase\n",
    "    text = [\n",
    "        morph.normal_forms(word.strip())[0] # Lemmatization (reduction to normal form)\n",
    "        for word in text.split() if word and word not in stopwords_ru # Cutting off stop words\n",
    "    ]\n",
    "    return text"
   ]
  },
  {
   "cell_type": "code",
   "execution_count": 29,
   "id": "4a8a9ecf",
   "metadata": {
    "execution": {
     "iopub.execute_input": "2025-10-28T16:43:14.863264Z",
     "iopub.status.busy": "2025-10-28T16:43:14.862932Z",
     "iopub.status.idle": "2025-10-28T16:44:20.045858Z",
     "shell.execute_reply": "2025-10-28T16:44:20.044793Z"
    },
    "papermill": {
     "duration": 65.207862,
     "end_time": "2025-10-28T16:44:20.047741",
     "exception": false,
     "start_time": "2025-10-28T16:43:14.839879",
     "status": "completed"
    },
    "tags": []
   },
   "outputs": [
    {
     "name": "stderr",
     "output_type": "stream",
     "text": [
      "[nltk_data] Downloading package stopwords to /usr/share/nltk_data...\n",
      "[nltk_data]   Package stopwords is already up-to-date!\n"
     ]
    }
   ],
   "source": [
    "# For symbolic features\n",
    "cat_ids = ['category_name_1', 'category_name_2', 'category_name_3', 'category_name_4']\n",
    "features = ['type', 'model', 'brand', 'country', 'category_name_1', 'category_name_2', 'category_name_3', 'category_name_4']\n",
    "nltk.download('stopwords')\n",
    "stopwords_ru = stopwords.words(\"russian\")\n",
    "morph = MorphAnalyzer()\n",
    "df_products_cleaned = df_products.copy()\n",
    "for f in features:\n",
    "    if f in cat_ids:\n",
    "        is_cat_id = 1\n",
    "    else:\n",
    "        is_cat_id = 0\n",
    "    df_products_cleaned[f] = df_products[f].apply(lambda x: clean_text(x,is_cat_id, morph, stopwords_ru))"
   ]
  },
  {
   "cell_type": "code",
   "execution_count": 30,
   "id": "a6ed9fe8",
   "metadata": {
    "execution": {
     "iopub.execute_input": "2025-10-28T16:44:20.095575Z",
     "iopub.status.busy": "2025-10-28T16:44:20.094612Z",
     "iopub.status.idle": "2025-10-28T16:44:20.101570Z",
     "shell.execute_reply": "2025-10-28T16:44:20.100253Z"
    },
    "papermill": {
     "duration": 0.032917,
     "end_time": "2025-10-28T16:44:20.103963",
     "exception": false,
     "start_time": "2025-10-28T16:44:20.071046",
     "status": "completed"
    },
    "tags": []
   },
   "outputs": [],
   "source": [
    "def jaccard_difference(row, morph, stopwords_ru):\n",
    "    brand_words = set(clean_text(str(row['brand']), 0, morph, stopwords_ru))         # Cleaning the brand\n",
    "    cat_words = set(clean_text(str(row['category_name_4']), 1, morph, stopwords_ru)) # We are cleaning the 4th level category\n",
    "    if not brand_words or not cat_words:\n",
    "        return 1  # Maximum different if one of the fields is empty\n",
    "    similarity = len(brand_words & cat_words) / len(brand_words | cat_words)  # We calculate the similarity of lists using the Jaccard coefficient\n",
    "    return 1 - similarity  # \"difference\" = 1 - similarity"
   ]
  },
  {
   "cell_type": "markdown",
   "id": "4a7ab863",
   "metadata": {
    "papermill": {
     "duration": 0.02211,
     "end_time": "2025-10-28T16:44:20.148685",
     "exception": false,
     "start_time": "2025-10-28T16:44:20.126575",
     "status": "completed"
    },
    "tags": []
   },
   "source": [
    "# a) Feature engineering for products"
   ]
  },
  {
   "cell_type": "code",
   "execution_count": 31,
   "id": "21866d27",
   "metadata": {
    "execution": {
     "iopub.execute_input": "2025-10-28T16:44:20.212032Z",
     "iopub.status.busy": "2025-10-28T16:44:20.211665Z",
     "iopub.status.idle": "2025-10-28T16:44:32.135294Z",
     "shell.execute_reply": "2025-10-28T16:44:32.133781Z"
    },
    "papermill": {
     "duration": 11.958597,
     "end_time": "2025-10-28T16:44:32.137198",
     "exception": false,
     "start_time": "2025-10-28T16:44:20.178601",
     "status": "completed"
    },
    "tags": []
   },
   "outputs": [],
   "source": [
    "# Let's add some new features by processing the existing ones\n",
    "df_products['weekday_create'] = df_products['date_of_create'].dt.weekday\n",
    "df_products['model_len'] = df_products['model'].apply(len) # Model name length\n",
    "df_products['model_words_count'] = df_products_cleaned['model'].apply(len) # Number of words in the model\n",
    "df_products_cleaned['brand_category4_diff'] = df_products_cleaned.apply(jaccard_difference, axis=1, args=(morph, stopwords_ru)) # The names in the brand and 4 categories are as similar as possible, so the differences in the names can be useful\n",
    "df_products['model_slash_count'] = df_products['model'].str.count('/') # Number of slashes in the model name\n",
    "df_products['model_has_delimeters'] = df_products['model'].apply(lambda x: any(ch in x for ch in ['/', '-', '_', ',','(',')']))  # The presence of a separator in the model name\n",
    "df_products['numbers_count'] = df_products['model'].str.findall(r'\\d+').str.len()  # Number of numbers in the model name\n",
    "df_products['model_first_word_latin'] = df_products['model'].astype(str).str.match(r'^[A-Za-z]') # If the first word in the model name is in Latin\n",
    "df_products['product_is_replaced'] = (df_products['replaced_by']!=0).astype(int) # An indication that the product has been replaced by a more relevant product\n",
    "\n",
    "df_products['date_of_create'] = pd.to_datetime(df_products['date_of_create'])\n",
    "# Calculation of the difference between the creation date of the replacement product and the current one\n",
    "df_products = df_products.merge(\n",
    "    df_products[['product_id', 'date_of_create']],\n",
    "    left_on='replaced_by',\n",
    "    right_on='product_id',\n",
    "    how='left',\n",
    "    suffixes=('', '_replaced')\n",
    ")\n",
    "df_products['days_to_replacement'] = (df_products['date_of_create_replaced'] - df_products['date_of_create']).dt.days.fillna(-1)\n",
    "# Average lifespan of a brand\n",
    "brand_avg_lifetime = df_products.groupby('brand')['days_to_replacement'].mean().rename('brand_avg_lifetime') # Average replacement time for each brand\n",
    "df_products = df_products.merge(brand_avg_lifetime, on='brand', how='left') # Merge the new column with the original dataframe\n",
    "# A safety net in case you encounter a brand that is not in the initial sample \n",
    "# (but is present, for example, in the test sample or after manually adding/correcting the data)\n",
    "df_products['brand_avg_lifetime'] = df_products['brand_avg_lifetime'].fillna(-1) \n",
    "# Average life expectancy for category 1\n",
    "category1_avg_lifetime = df_products.groupby('category_name_1')['days_to_replacement'].mean().rename('category1_avg_lifetime')\n",
    "df_products = df_products.merge(category1_avg_lifetime, on='category_name_1', how='left')\n",
    "df_products['category1_avg_lifetime'] = df_products['category1_avg_lifetime'].fillna(-1)\n",
    "# Average life expectancy for category 2\n",
    "category2_avg_lifetime = df_products.groupby('category_name_2')['days_to_replacement'].mean().rename('category2_avg_lifetime')\n",
    "df_products = df_products.merge(category2_avg_lifetime, on='category_name_2', how='left')\n",
    "df_products['category2_avg_lifetime'] = df_products['category2_avg_lifetime'].fillna(-1)\n",
    "# Average life expectancy for category 3\n",
    "category3_avg_lifetime = df_products.groupby('category_name_3')['days_to_replacement'].mean().rename('category3_avg_lifetime')\n",
    "df_products = df_products.merge(category3_avg_lifetime, on='category_name_3', how='left')\n",
    "df_products['category3_avg_lifetime'] = df_products['category3_avg_lifetime'].fillna(-1)\n",
    "# Average life expectancy for category 4\n",
    "category4_avg_lifetime = df_products.groupby('category_name_4')['days_to_replacement'].mean().rename('category4_avg_lifetime')\n",
    "df_products = df_products.merge(category4_avg_lifetime, on='category_name_4', how='left')\n",
    "df_products['category4_avg_lifetime'] = df_products['category4_avg_lifetime'].fillna(-1)\n",
    "# Number of replacements by brand\n",
    "brand_replaced_counts = df_products.groupby('brand')['product_is_replaced'].sum().rename('brand_replaced_count') \n",
    "df_products = df_products.merge(brand_replaced_counts, on='brand', how='left')\n",
    "df_products['brand_replaced_count'] = df_products['brand_replaced_count'].fillna(-1)\n",
    "# Number of substitutions for category 1\n",
    "category1_replaced_counts = df_products.groupby('category_name_1')['product_is_replaced'].sum().rename('category1_replaced_count')\n",
    "df_products = df_products.merge(category1_replaced_counts, on='category_name_1', how='left')\n",
    "df_products['category1_replaced_count'] = df_products['category1_replaced_count'].fillna(-1)\n",
    "# Number of substitutions for category 2\n",
    "category2_replaced_counts = df_products.groupby('category_name_2')['product_is_replaced'].sum().rename('category2_replaced_count')\n",
    "df_products = df_products.merge(category2_replaced_counts, on='category_name_2', how='left')\n",
    "df_products['category2_replaced_count'] = df_products['category2_replaced_count'].fillna(-1)\n",
    "# Number of substitutions for category 3\n",
    "category3_replaced_counts = df_products.groupby('category_name_3')['product_is_replaced'].sum().rename('category3_replaced_count')\n",
    "df_products = df_products.merge(category3_replaced_counts, on='category_name_3', how='left')\n",
    "df_products['category3_replaced_count'] = df_products['category3_replaced_count'].fillna(-1)\n",
    "# Number of substitutions for category 4\n",
    "category4_replaced_counts = df_products.groupby('category_name_4')['product_is_replaced'].sum().rename('category4_replaced_count')\n",
    "df_products = df_products.merge(category4_replaced_counts, on='category_name_4', how='left')\n",
    "df_products['category4_replaced_count'] = df_products['category4_replaced_count'].fillna(-1)"
   ]
  },
  {
   "cell_type": "markdown",
   "id": "c6533c0a",
   "metadata": {
    "papermill": {
     "duration": 0.023737,
     "end_time": "2025-10-28T16:44:32.184786",
     "exception": false,
     "start_time": "2025-10-28T16:44:32.161049",
     "status": "completed"
    },
    "tags": []
   },
   "source": [
    "# b) Feature engineering for sessions"
   ]
  },
  {
   "cell_type": "markdown",
   "id": "d02d51b7",
   "metadata": {
    "papermill": {
     "duration": 0.023135,
     "end_time": "2025-10-28T16:44:32.232158",
     "exception": false,
     "start_time": "2025-10-28T16:44:32.209023",
     "status": "completed"
    },
    "tags": []
   },
   "source": [
    "#### We will analyze the user, search query, and product identifiers to understand what a specific user does, how they behave within a single query, and how a product behaves in the context of user interactions with it over time."
   ]
  },
  {
   "cell_type": "code",
   "execution_count": 32,
   "id": "9804297f",
   "metadata": {
    "execution": {
     "iopub.execute_input": "2025-10-28T16:44:32.280360Z",
     "iopub.status.busy": "2025-10-28T16:44:32.280039Z",
     "iopub.status.idle": "2025-10-28T16:44:33.262665Z",
     "shell.execute_reply": "2025-10-28T16:44:33.261788Z"
    },
    "papermill": {
     "duration": 1.009072,
     "end_time": "2025-10-28T16:44:33.264530",
     "exception": false,
     "start_time": "2025-10-28T16:44:32.255458",
     "status": "completed"
    },
    "tags": []
   },
   "outputs": [],
   "source": [
    "# User Features\n",
    "user_features = df_sessions_train.groupby('user_number').agg(\n",
    "     un_user_searches=('search_number', 'nunique'),                 # How many search queries were made\n",
    "     un_user_views=('product_id', 'count'),                         # How many products were viewed\n",
    "     un_filters_applied_mean=('filters_applied', 'mean'),           # How often were filters used\n",
    "     un_browse_time_mean=('browse_time', 'mean'),                   # Average time on page\n",
    "     un_price_is_discounted_mean=('price_is_discounted', 'mean'),   # Percentage of discounted products viewed\n",
    "     un_available_mean=('available', 'mean')                        # Average availability\n",
    ").reset_index()"
   ]
  },
  {
   "cell_type": "code",
   "execution_count": 33,
   "id": "fed0dfed",
   "metadata": {
    "execution": {
     "iopub.execute_input": "2025-10-28T16:44:33.311442Z",
     "iopub.status.busy": "2025-10-28T16:44:33.310367Z",
     "iopub.status.idle": "2025-10-28T16:44:56.320011Z",
     "shell.execute_reply": "2025-10-28T16:44:56.318537Z"
    },
    "papermill": {
     "duration": 23.035544,
     "end_time": "2025-10-28T16:44:56.322312",
     "exception": false,
     "start_time": "2025-10-28T16:44:33.286768",
     "status": "completed"
    },
    "tags": []
   },
   "outputs": [],
   "source": [
    "# Фичи поискового запроса\n",
    "session_features = df_sessions_train.groupby('search_number').agg(\n",
    "     sn_response_products_mean=('response_products', 'mean'),       # Average number of products found\n",
    "     sn_browse_time_mean=('browse_time', 'mean'),                   # Average viewing time\n",
    "     sn_filters_applied_max=('filters_applied', 'max'),             # A filter was applied at least once\n",
    "     sn_price_mean=('price', 'mean'),\n",
    "     sn_price_min=('price', 'min'),\n",
    "     sn_price_max=('price', 'max'),\n",
    "     sn_price_max_diff=('price', lambda x: x.max() - x.mean()), \n",
    "     sn_price_is_discounted_mean=('price_is_discounted', 'mean'),   # Share of discounted goods\n",
    "     sn_price_is_super_mean=('price_is_super', 'mean'),             # Share of promotional items\n",
    "     sn_available_mean=('available', 'mean')                        # Average availability\n",
    ").reset_index()"
   ]
  },
  {
   "cell_type": "code",
   "execution_count": 34,
   "id": "82f988ca",
   "metadata": {
    "execution": {
     "iopub.execute_input": "2025-10-28T16:44:56.371958Z",
     "iopub.status.busy": "2025-10-28T16:44:56.371639Z",
     "iopub.status.idle": "2025-10-28T16:45:00.615367Z",
     "shell.execute_reply": "2025-10-28T16:45:00.614209Z"
    },
    "papermill": {
     "duration": 4.269737,
     "end_time": "2025-10-28T16:45:00.617145",
     "exception": false,
     "start_time": "2025-10-28T16:44:56.347408",
     "status": "completed"
    },
    "tags": []
   },
   "outputs": [],
   "source": [
    "# Фичи по товару в контексте поиска\n",
    "product_features = df_sessions_train.groupby('product_id').agg(\n",
    "     pr_price_mean=('price', 'mean'),                                   # Price statistics for all sessions\n",
    "     pr_price_min=('price', 'min'),\n",
    "     pr_price_max=('price', 'max'),\n",
    "     pr_price_max_diff=('price', lambda x: x.max() - x.mean()),       \n",
    "     pr_price_is_discounted_mean=('price_is_discounted', 'mean'),       # The probability that this item is on sale\n",
    "     pr_price_is_super_mean=('price_is_super', 'mean'),                 # The probability that this product is on sale\n",
    "     pr_available_mean=('available', 'mean'),                           # Average product availability\n",
    "     pr_relevance_mean=('relevance', 'mean'),                           # Average Engagement (How much clicks translate into purchases)\n",
    "     pr_relevance_max=('relevance', 'max'),\n",
    "     pr_relevance_max_diff=('relevance', lambda x: x.max() - x.mean()),\n",
    "     pr_search_number_count=('search_number', 'count'),                 # How many times was the product found in the search results\n",
    "     pr_product_position_mean=('product_position', 'mean'),             # Average product position in search results\n",
    "     pr_product_position_max=('product_position', 'max'),\n",
    "     pr_product_position_max_diff=('product_position', lambda x: x.max() - x.mean())\n",
    ").reset_index()"
   ]
  },
  {
   "cell_type": "code",
   "execution_count": 35,
   "id": "48cc400b",
   "metadata": {
    "execution": {
     "iopub.execute_input": "2025-10-28T16:45:00.665469Z",
     "iopub.status.busy": "2025-10-28T16:45:00.665119Z",
     "iopub.status.idle": "2025-10-28T16:45:09.579998Z",
     "shell.execute_reply": "2025-10-28T16:45:09.578017Z"
    },
    "papermill": {
     "duration": 8.941679,
     "end_time": "2025-10-28T16:45:09.582197",
     "exception": false,
     "start_time": "2025-10-28T16:45:00.640518",
     "status": "completed"
    },
    "tags": []
   },
   "outputs": [],
   "source": [
    "# Then we combine them with the original lines so as not to lose information\n",
    "df_sessions_train = (\n",
    "    df_sessions_train\n",
    "    .merge(user_features, on='user_number', how='left')\n",
    "    .merge(session_features, on='search_number', how='left')\n",
    "    .merge(product_features, on='product_id', how='left')\n",
    ")"
   ]
  },
  {
   "cell_type": "code",
   "execution_count": 36,
   "id": "390f072d",
   "metadata": {
    "execution": {
     "iopub.execute_input": "2025-10-28T16:45:09.631372Z",
     "iopub.status.busy": "2025-10-28T16:45:09.630906Z",
     "iopub.status.idle": "2025-10-28T16:45:09.654267Z",
     "shell.execute_reply": "2025-10-28T16:45:09.652797Z"
    },
    "papermill": {
     "duration": 0.049851,
     "end_time": "2025-10-28T16:45:09.656006",
     "exception": false,
     "start_time": "2025-10-28T16:45:09.606155",
     "status": "completed"
    },
    "tags": []
   },
   "outputs": [
    {
     "data": {
      "text/html": [
       "<div>\n",
       "<style scoped>\n",
       "    .dataframe tbody tr th:only-of-type {\n",
       "        vertical-align: middle;\n",
       "    }\n",
       "\n",
       "    .dataframe tbody tr th {\n",
       "        vertical-align: top;\n",
       "    }\n",
       "\n",
       "    .dataframe thead th {\n",
       "        text-align: right;\n",
       "    }\n",
       "</style>\n",
       "<table border=\"1\" class=\"dataframe\">\n",
       "  <thead>\n",
       "    <tr style=\"text-align: right;\">\n",
       "      <th></th>\n",
       "      <th>query</th>\n",
       "      <th>date</th>\n",
       "      <th>device</th>\n",
       "      <th>user_number</th>\n",
       "      <th>search_number</th>\n",
       "      <th>product_id</th>\n",
       "      <th>selected_category_id</th>\n",
       "      <th>product_position</th>\n",
       "      <th>response_products</th>\n",
       "      <th>response_time</th>\n",
       "      <th>...</th>\n",
       "      <th>pr_price_is_discounted_mean</th>\n",
       "      <th>pr_price_is_super_mean</th>\n",
       "      <th>pr_available_mean</th>\n",
       "      <th>pr_relevance_mean</th>\n",
       "      <th>pr_relevance_max</th>\n",
       "      <th>pr_relevance_max_diff</th>\n",
       "      <th>pr_search_number_count</th>\n",
       "      <th>pr_product_position_mean</th>\n",
       "      <th>pr_product_position_max</th>\n",
       "      <th>pr_product_position_max_diff</th>\n",
       "    </tr>\n",
       "  </thead>\n",
       "  <tbody>\n",
       "    <tr>\n",
       "      <th>0</th>\n",
       "      <td>bagi</td>\n",
       "      <td>2024-07-03</td>\n",
       "      <td>desktop</td>\n",
       "      <td>119760</td>\n",
       "      <td>1963</td>\n",
       "      <td>6221252</td>\n",
       "      <td>10709</td>\n",
       "      <td>2</td>\n",
       "      <td>9</td>\n",
       "      <td>76</td>\n",
       "      <td>...</td>\n",
       "      <td>0.091362</td>\n",
       "      <td>0.093023</td>\n",
       "      <td>1.963455</td>\n",
       "      <td>0.063123</td>\n",
       "      <td>3</td>\n",
       "      <td>2.936877</td>\n",
       "      <td>602</td>\n",
       "      <td>41.219269</td>\n",
       "      <td>447</td>\n",
       "      <td>405.780731</td>\n",
       "    </tr>\n",
       "    <tr>\n",
       "      <th>1</th>\n",
       "      <td>bagi</td>\n",
       "      <td>2024-07-03</td>\n",
       "      <td>desktop</td>\n",
       "      <td>119760</td>\n",
       "      <td>1963</td>\n",
       "      <td>6221258</td>\n",
       "      <td>10718</td>\n",
       "      <td>3</td>\n",
       "      <td>3</td>\n",
       "      <td>75</td>\n",
       "      <td>...</td>\n",
       "      <td>0.029586</td>\n",
       "      <td>0.000000</td>\n",
       "      <td>1.946746</td>\n",
       "      <td>0.041420</td>\n",
       "      <td>2</td>\n",
       "      <td>1.958580</td>\n",
       "      <td>169</td>\n",
       "      <td>42.449704</td>\n",
       "      <td>211</td>\n",
       "      <td>168.550296</td>\n",
       "    </tr>\n",
       "    <tr>\n",
       "      <th>2</th>\n",
       "      <td>bagi</td>\n",
       "      <td>2024-07-03</td>\n",
       "      <td>desktop</td>\n",
       "      <td>119760</td>\n",
       "      <td>1963</td>\n",
       "      <td>6221260</td>\n",
       "      <td>10718</td>\n",
       "      <td>1</td>\n",
       "      <td>3</td>\n",
       "      <td>75</td>\n",
       "      <td>...</td>\n",
       "      <td>0.026087</td>\n",
       "      <td>0.008696</td>\n",
       "      <td>1.947826</td>\n",
       "      <td>0.130435</td>\n",
       "      <td>3</td>\n",
       "      <td>2.869565</td>\n",
       "      <td>115</td>\n",
       "      <td>47.000000</td>\n",
       "      <td>219</td>\n",
       "      <td>172.000000</td>\n",
       "    </tr>\n",
       "    <tr>\n",
       "      <th>3</th>\n",
       "      <td>bagi</td>\n",
       "      <td>2024-07-03</td>\n",
       "      <td>desktop</td>\n",
       "      <td>119760</td>\n",
       "      <td>1963</td>\n",
       "      <td>6221262</td>\n",
       "      <td>10718</td>\n",
       "      <td>2</td>\n",
       "      <td>3</td>\n",
       "      <td>75</td>\n",
       "      <td>...</td>\n",
       "      <td>0.000000</td>\n",
       "      <td>0.016667</td>\n",
       "      <td>1.966667</td>\n",
       "      <td>0.100000</td>\n",
       "      <td>3</td>\n",
       "      <td>2.900000</td>\n",
       "      <td>60</td>\n",
       "      <td>40.150000</td>\n",
       "      <td>243</td>\n",
       "      <td>202.850000</td>\n",
       "    </tr>\n",
       "    <tr>\n",
       "      <th>4</th>\n",
       "      <td>bagi</td>\n",
       "      <td>2024-07-03</td>\n",
       "      <td>desktop</td>\n",
       "      <td>119760</td>\n",
       "      <td>1963</td>\n",
       "      <td>6221264</td>\n",
       "      <td>10709</td>\n",
       "      <td>9</td>\n",
       "      <td>9</td>\n",
       "      <td>76</td>\n",
       "      <td>...</td>\n",
       "      <td>0.021186</td>\n",
       "      <td>0.080508</td>\n",
       "      <td>1.809322</td>\n",
       "      <td>0.088983</td>\n",
       "      <td>3</td>\n",
       "      <td>2.911017</td>\n",
       "      <td>236</td>\n",
       "      <td>27.152542</td>\n",
       "      <td>426</td>\n",
       "      <td>398.847458</td>\n",
       "    </tr>\n",
       "  </tbody>\n",
       "</table>\n",
       "<p>5 rows × 48 columns</p>\n",
       "</div>"
      ],
      "text/plain": [
       "  query       date   device  user_number  search_number  product_id  \\\n",
       "0  bagi 2024-07-03  desktop       119760           1963     6221252   \n",
       "1  bagi 2024-07-03  desktop       119760           1963     6221258   \n",
       "2  bagi 2024-07-03  desktop       119760           1963     6221260   \n",
       "3  bagi 2024-07-03  desktop       119760           1963     6221262   \n",
       "4  bagi 2024-07-03  desktop       119760           1963     6221264   \n",
       "\n",
       "   selected_category_id  product_position  response_products  response_time  \\\n",
       "0                 10709                 2                  9             76   \n",
       "1                 10718                 3                  3             75   \n",
       "2                 10718                 1                  3             75   \n",
       "3                 10718                 2                  3             75   \n",
       "4                 10709                 9                  9             76   \n",
       "\n",
       "   ...  pr_price_is_discounted_mean  pr_price_is_super_mean  \\\n",
       "0  ...                     0.091362                0.093023   \n",
       "1  ...                     0.029586                0.000000   \n",
       "2  ...                     0.026087                0.008696   \n",
       "3  ...                     0.000000                0.016667   \n",
       "4  ...                     0.021186                0.080508   \n",
       "\n",
       "   pr_available_mean  pr_relevance_mean  pr_relevance_max  \\\n",
       "0           1.963455           0.063123                 3   \n",
       "1           1.946746           0.041420                 2   \n",
       "2           1.947826           0.130435                 3   \n",
       "3           1.966667           0.100000                 3   \n",
       "4           1.809322           0.088983                 3   \n",
       "\n",
       "   pr_relevance_max_diff  pr_search_number_count  pr_product_position_mean  \\\n",
       "0               2.936877                     602                 41.219269   \n",
       "1               1.958580                     169                 42.449704   \n",
       "2               2.869565                     115                 47.000000   \n",
       "3               2.900000                      60                 40.150000   \n",
       "4               2.911017                     236                 27.152542   \n",
       "\n",
       "   pr_product_position_max  pr_product_position_max_diff  \n",
       "0                      447                    405.780731  \n",
       "1                      211                    168.550296  \n",
       "2                      219                    172.000000  \n",
       "3                      243                    202.850000  \n",
       "4                      426                    398.847458  \n",
       "\n",
       "[5 rows x 48 columns]"
      ]
     },
     "execution_count": 36,
     "metadata": {},
     "output_type": "execute_result"
    }
   ],
   "source": [
    "df_sessions_train.head()"
   ]
  },
  {
   "cell_type": "markdown",
   "id": "08774874",
   "metadata": {
    "papermill": {
     "duration": 0.03202,
     "end_time": "2025-10-28T16:45:09.714173",
     "exception": false,
     "start_time": "2025-10-28T16:45:09.682153",
     "status": "completed"
    },
    "tags": []
   },
   "source": [
    "#### Now we enrich the test data"
   ]
  },
  {
   "cell_type": "code",
   "execution_count": 37,
   "id": "acbd0689",
   "metadata": {
    "execution": {
     "iopub.execute_input": "2025-10-28T16:45:09.777185Z",
     "iopub.status.busy": "2025-10-28T16:45:09.776859Z",
     "iopub.status.idle": "2025-10-28T16:45:10.097323Z",
     "shell.execute_reply": "2025-10-28T16:45:10.095608Z"
    },
    "papermill": {
     "duration": 0.35338,
     "end_time": "2025-10-28T16:45:10.099634",
     "exception": false,
     "start_time": "2025-10-28T16:45:09.746254",
     "status": "completed"
    },
    "tags": []
   },
   "outputs": [],
   "source": [
    "df_sessions_test = (\n",
    "    df_sessions_test\n",
    "    .merge(user_features, on='user_number', how='left')\n",
    "    .merge(session_features, on='search_number', how='left')\n",
    "    .merge(product_features, on='product_id', how='left')\n",
    ")"
   ]
  },
  {
   "cell_type": "code",
   "execution_count": 38,
   "id": "c3df643c",
   "metadata": {
    "execution": {
     "iopub.execute_input": "2025-10-28T16:45:10.150960Z",
     "iopub.status.busy": "2025-10-28T16:45:10.150601Z",
     "iopub.status.idle": "2025-10-28T16:45:10.385570Z",
     "shell.execute_reply": "2025-10-28T16:45:10.382103Z"
    },
    "papermill": {
     "duration": 0.263065,
     "end_time": "2025-10-28T16:45:10.387950",
     "exception": false,
     "start_time": "2025-10-28T16:45:10.124885",
     "status": "completed"
    },
    "tags": []
   },
   "outputs": [],
   "source": [
    "df_sessions_test=df_sessions_test.fillna(0)"
   ]
  },
  {
   "cell_type": "markdown",
   "id": "364d6b78",
   "metadata": {
    "papermill": {
     "duration": 0.027008,
     "end_time": "2025-10-28T16:45:10.447072",
     "exception": false,
     "start_time": "2025-10-28T16:45:10.420064",
     "status": "completed"
    },
    "tags": []
   },
   "source": [
    "#### Now let's combine session data with product data."
   ]
  },
  {
   "cell_type": "code",
   "execution_count": 39,
   "id": "9666e8e5",
   "metadata": {
    "execution": {
     "iopub.execute_input": "2025-10-28T16:45:10.501618Z",
     "iopub.status.busy": "2025-10-28T16:45:10.501243Z",
     "iopub.status.idle": "2025-10-28T16:45:22.125192Z",
     "shell.execute_reply": "2025-10-28T16:45:22.123739Z"
    },
    "papermill": {
     "duration": 11.654089,
     "end_time": "2025-10-28T16:45:22.127101",
     "exception": false,
     "start_time": "2025-10-28T16:45:10.473012",
     "status": "completed"
    },
    "tags": []
   },
   "outputs": [],
   "source": [
    "df_train_merged = df_sessions_train.merge(df_products, on='product_id', how='left')\n",
    "df_test_merged = df_sessions_test.merge(df_products, on='product_id', how='left')"
   ]
  },
  {
   "cell_type": "code",
   "execution_count": 40,
   "id": "346f4f81",
   "metadata": {
    "execution": {
     "iopub.execute_input": "2025-10-28T16:45:22.182320Z",
     "iopub.status.busy": "2025-10-28T16:45:22.181932Z",
     "iopub.status.idle": "2025-10-28T16:45:22.196895Z",
     "shell.execute_reply": "2025-10-28T16:45:22.195280Z"
    },
    "papermill": {
     "duration": 0.04447,
     "end_time": "2025-10-28T16:45:22.199173",
     "exception": false,
     "start_time": "2025-10-28T16:45:22.154703",
     "status": "completed"
    },
    "tags": []
   },
   "outputs": [
    {
     "name": "stdout",
     "output_type": "stream",
     "text": [
      "<class 'pandas.core.frame.DataFrame'>\n",
      "RangeIndex: 6910392 entries, 0 to 6910391\n",
      "Data columns (total 81 columns):\n",
      " #   Column                        Dtype         \n",
      "---  ------                        -----         \n",
      " 0   query                         object        \n",
      " 1   date                          datetime64[ns]\n",
      " 2   device                        object        \n",
      " 3   user_number                   int64         \n",
      " 4   search_number                 int64         \n",
      " 5   product_id                    int64         \n",
      " 6   selected_category_id          int64         \n",
      " 7   product_position              int64         \n",
      " 8   response_products             int64         \n",
      " 9   response_time                 int64         \n",
      " 10  browse_time                   int64         \n",
      " 11  filters_applied               int64         \n",
      " 12  price_is_discounted           int64         \n",
      " 13  price_is_super                int64         \n",
      " 14  price                         int64         \n",
      " 15  price_discount                int64         \n",
      " 16  available                     int64         \n",
      " 17  relevance                     int64         \n",
      " 18  un_user_searches              int64         \n",
      " 19  un_user_views                 int64         \n",
      " 20  un_filters_applied_mean       float64       \n",
      " 21  un_browse_time_mean           float64       \n",
      " 22  un_price_is_discounted_mean   float64       \n",
      " 23  un_available_mean             float64       \n",
      " 24  sn_response_products_mean     float64       \n",
      " 25  sn_browse_time_mean           float64       \n",
      " 26  sn_filters_applied_max        int64         \n",
      " 27  sn_price_mean                 float64       \n",
      " 28  sn_price_min                  int64         \n",
      " 29  sn_price_max                  int64         \n",
      " 30  sn_price_max_diff             float64       \n",
      " 31  sn_price_is_discounted_mean   float64       \n",
      " 32  sn_price_is_super_mean        float64       \n",
      " 33  sn_available_mean             float64       \n",
      " 34  pr_price_mean                 float64       \n",
      " 35  pr_price_min                  int64         \n",
      " 36  pr_price_max                  int64         \n",
      " 37  pr_price_max_diff             float64       \n",
      " 38  pr_price_is_discounted_mean   float64       \n",
      " 39  pr_price_is_super_mean        float64       \n",
      " 40  pr_available_mean             float64       \n",
      " 41  pr_relevance_mean             float64       \n",
      " 42  pr_relevance_max              int64         \n",
      " 43  pr_relevance_max_diff         float64       \n",
      " 44  pr_search_number_count        int64         \n",
      " 45  pr_product_position_mean      float64       \n",
      " 46  pr_product_position_max       int64         \n",
      " 47  pr_product_position_max_diff  float64       \n",
      " 48  replaced_by                   int64         \n",
      " 49  type                          object        \n",
      " 50  model                         object        \n",
      " 51  brand                         object        \n",
      " 52  country                       object        \n",
      " 53  category_name_1               object        \n",
      " 54  category_name_2               object        \n",
      " 55  category_name_3               object        \n",
      " 56  category_name_4               object        \n",
      " 57  date_of_create                datetime64[ns]\n",
      " 58  product_age_days              int64         \n",
      " 59  elden_product                 int64         \n",
      " 60  weekday_create                int32         \n",
      " 61  model_len                     int64         \n",
      " 62  model_words_count             int64         \n",
      " 63  model_slash_count             int64         \n",
      " 64  model_has_delimeters          bool          \n",
      " 65  numbers_count                 int64         \n",
      " 66  model_first_word_latin        bool          \n",
      " 67  product_is_replaced           int64         \n",
      " 68  product_id_replaced           float64       \n",
      " 69  date_of_create_replaced       datetime64[ns]\n",
      " 70  days_to_replacement           float64       \n",
      " 71  brand_avg_lifetime            float64       \n",
      " 72  category1_avg_lifetime        float64       \n",
      " 73  category2_avg_lifetime        float64       \n",
      " 74  category3_avg_lifetime        float64       \n",
      " 75  category4_avg_lifetime        float64       \n",
      " 76  brand_replaced_count          int64         \n",
      " 77  category1_replaced_count      int64         \n",
      " 78  category2_replaced_count      int64         \n",
      " 79  category3_replaced_count      int64         \n",
      " 80  category4_replaced_count      int64         \n",
      "dtypes: bool(2), datetime64[ns](3), float64(27), int32(1), int64(38), object(10)\n",
      "memory usage: 4.1+ GB\n"
     ]
    }
   ],
   "source": [
    "df_train_merged.info()"
   ]
  },
  {
   "cell_type": "markdown",
   "id": "a6253f84",
   "metadata": {
    "papermill": {
     "duration": 0.024147,
     "end_time": "2025-10-28T16:45:22.247425",
     "exception": false,
     "start_time": "2025-10-28T16:45:22.223278",
     "status": "completed"
    },
    "tags": []
   },
   "source": [
    "# **4) Create model**"
   ]
  },
  {
   "cell_type": "markdown",
   "id": "8d650ea4",
   "metadata": {
    "papermill": {
     "duration": 0.026077,
     "end_time": "2025-10-28T16:45:22.298423",
     "exception": false,
     "start_time": "2025-10-28T16:45:22.272346",
     "status": "completed"
    },
    "tags": []
   },
   "source": [
    "#### Let's prepare features for the model"
   ]
  },
  {
   "cell_type": "code",
   "execution_count": 41,
   "id": "ecf3e6b8",
   "metadata": {
    "execution": {
     "iopub.execute_input": "2025-10-28T16:45:22.352675Z",
     "iopub.status.busy": "2025-10-28T16:45:22.352171Z",
     "iopub.status.idle": "2025-10-28T16:45:22.362377Z",
     "shell.execute_reply": "2025-10-28T16:45:22.360259Z"
    },
    "papermill": {
     "duration": 0.04042,
     "end_time": "2025-10-28T16:45:22.366411",
     "exception": false,
     "start_time": "2025-10-28T16:45:22.325991",
     "status": "completed"
    },
    "tags": []
   },
   "outputs": [
    {
     "data": {
      "text/plain": [
       "0            10_8080243\n",
       "1            10_8826131\n",
       "2            10_7850512\n",
       "3            10_5897964\n",
       "4            10_6915061\n",
       "              ...      \n",
       "265465    66547_8162696\n",
       "265466    66547_7309648\n",
       "265467    66547_9523114\n",
       "265468    66547_9756367\n",
       "265469    66547_8649370\n",
       "Name: session_product_id, Length: 265470, dtype: object"
      ]
     },
     "execution_count": 41,
     "metadata": {},
     "output_type": "execute_result"
    }
   ],
   "source": [
    "df_test_merged.session_product_id"
   ]
  },
  {
   "cell_type": "code",
   "execution_count": 42,
   "id": "33845455",
   "metadata": {
    "execution": {
     "iopub.execute_input": "2025-10-28T16:45:22.420463Z",
     "iopub.status.busy": "2025-10-28T16:45:22.420106Z",
     "iopub.status.idle": "2025-10-28T16:45:22.529823Z",
     "shell.execute_reply": "2025-10-28T16:45:22.527720Z"
    },
    "papermill": {
     "duration": 0.142743,
     "end_time": "2025-10-28T16:45:22.532738",
     "exception": false,
     "start_time": "2025-10-28T16:45:22.389995",
     "status": "completed"
    },
    "tags": []
   },
   "outputs": [
    {
     "data": {
      "text/html": [
       "<div>\n",
       "<style scoped>\n",
       "    .dataframe tbody tr th:only-of-type {\n",
       "        vertical-align: middle;\n",
       "    }\n",
       "\n",
       "    .dataframe tbody tr th {\n",
       "        vertical-align: top;\n",
       "    }\n",
       "\n",
       "    .dataframe thead th {\n",
       "        text-align: right;\n",
       "    }\n",
       "</style>\n",
       "<table border=\"1\" class=\"dataframe\">\n",
       "  <thead>\n",
       "    <tr style=\"text-align: right;\">\n",
       "      <th></th>\n",
       "      <th>query</th>\n",
       "      <th>date</th>\n",
       "      <th>device</th>\n",
       "      <th>user_number</th>\n",
       "      <th>search_number</th>\n",
       "      <th>product_id</th>\n",
       "      <th>selected_category_id</th>\n",
       "      <th>product_position</th>\n",
       "      <th>response_products</th>\n",
       "      <th>response_time</th>\n",
       "      <th>...</th>\n",
       "      <th>brand_avg_lifetime</th>\n",
       "      <th>category1_avg_lifetime</th>\n",
       "      <th>category2_avg_lifetime</th>\n",
       "      <th>category3_avg_lifetime</th>\n",
       "      <th>category4_avg_lifetime</th>\n",
       "      <th>brand_replaced_count</th>\n",
       "      <th>category1_replaced_count</th>\n",
       "      <th>category2_replaced_count</th>\n",
       "      <th>category3_replaced_count</th>\n",
       "      <th>category4_replaced_count</th>\n",
       "    </tr>\n",
       "  </thead>\n",
       "  <tbody>\n",
       "    <tr>\n",
       "      <th>10</th>\n",
       "      <td>,tkbpyf</td>\n",
       "      <td>2025-08-27</td>\n",
       "      <td>desktop</td>\n",
       "      <td>8663</td>\n",
       "      <td>308049</td>\n",
       "      <td>518001</td>\n",
       "      <td>399</td>\n",
       "      <td>11</td>\n",
       "      <td>100</td>\n",
       "      <td>8</td>\n",
       "      <td>...</td>\n",
       "      <td>-58.242424</td>\n",
       "      <td>-5.696028</td>\n",
       "      <td>-4.798175</td>\n",
       "      <td>-5.257548</td>\n",
       "      <td>-5.257548</td>\n",
       "      <td>8</td>\n",
       "      <td>346</td>\n",
       "      <td>206</td>\n",
       "      <td>88</td>\n",
       "      <td>88</td>\n",
       "    </tr>\n",
       "    <tr>\n",
       "      <th>11</th>\n",
       "      <td>,tkbpyf</td>\n",
       "      <td>2025-08-27</td>\n",
       "      <td>desktop</td>\n",
       "      <td>8663</td>\n",
       "      <td>308049</td>\n",
       "      <td>518001</td>\n",
       "      <td>399</td>\n",
       "      <td>11</td>\n",
       "      <td>100</td>\n",
       "      <td>8</td>\n",
       "      <td>...</td>\n",
       "      <td>-58.242424</td>\n",
       "      <td>-5.696028</td>\n",
       "      <td>-4.798175</td>\n",
       "      <td>-5.257548</td>\n",
       "      <td>-5.257548</td>\n",
       "      <td>8</td>\n",
       "      <td>346</td>\n",
       "      <td>206</td>\n",
       "      <td>88</td>\n",
       "      <td>88</td>\n",
       "    </tr>\n",
       "    <tr>\n",
       "      <th>19</th>\n",
       "      <td>,tkbpyf</td>\n",
       "      <td>2025-08-27</td>\n",
       "      <td>desktop</td>\n",
       "      <td>8663</td>\n",
       "      <td>308049</td>\n",
       "      <td>8373384</td>\n",
       "      <td>399</td>\n",
       "      <td>19</td>\n",
       "      <td>100</td>\n",
       "      <td>8</td>\n",
       "      <td>...</td>\n",
       "      <td>-45.857143</td>\n",
       "      <td>-5.696028</td>\n",
       "      <td>-4.798175</td>\n",
       "      <td>-5.257548</td>\n",
       "      <td>-5.257548</td>\n",
       "      <td>2</td>\n",
       "      <td>346</td>\n",
       "      <td>206</td>\n",
       "      <td>88</td>\n",
       "      <td>88</td>\n",
       "    </tr>\n",
       "    <tr>\n",
       "      <th>20</th>\n",
       "      <td>,tkbpyf</td>\n",
       "      <td>2025-08-27</td>\n",
       "      <td>desktop</td>\n",
       "      <td>8663</td>\n",
       "      <td>308049</td>\n",
       "      <td>8373384</td>\n",
       "      <td>399</td>\n",
       "      <td>19</td>\n",
       "      <td>100</td>\n",
       "      <td>8</td>\n",
       "      <td>...</td>\n",
       "      <td>-45.857143</td>\n",
       "      <td>-5.696028</td>\n",
       "      <td>-4.798175</td>\n",
       "      <td>-5.257548</td>\n",
       "      <td>-5.257548</td>\n",
       "      <td>2</td>\n",
       "      <td>346</td>\n",
       "      <td>206</td>\n",
       "      <td>88</td>\n",
       "      <td>88</td>\n",
       "    </tr>\n",
       "    <tr>\n",
       "      <th>26</th>\n",
       "      <td>,телефон кнопочный нокио220</td>\n",
       "      <td>2025-07-04</td>\n",
       "      <td>mobile</td>\n",
       "      <td>34615</td>\n",
       "      <td>95465</td>\n",
       "      <td>8415038</td>\n",
       "      <td>99</td>\n",
       "      <td>3</td>\n",
       "      <td>15</td>\n",
       "      <td>3</td>\n",
       "      <td>...</td>\n",
       "      <td>-41.316484</td>\n",
       "      <td>-7.539579</td>\n",
       "      <td>-8.771837</td>\n",
       "      <td>-8.771837</td>\n",
       "      <td>-8.771837</td>\n",
       "      <td>44</td>\n",
       "      <td>461</td>\n",
       "      <td>341</td>\n",
       "      <td>341</td>\n",
       "      <td>341</td>\n",
       "    </tr>\n",
       "    <tr>\n",
       "      <th>...</th>\n",
       "      <td>...</td>\n",
       "      <td>...</td>\n",
       "      <td>...</td>\n",
       "      <td>...</td>\n",
       "      <td>...</td>\n",
       "      <td>...</td>\n",
       "      <td>...</td>\n",
       "      <td>...</td>\n",
       "      <td>...</td>\n",
       "      <td>...</td>\n",
       "      <td>...</td>\n",
       "      <td>...</td>\n",
       "      <td>...</td>\n",
       "      <td>...</td>\n",
       "      <td>...</td>\n",
       "      <td>...</td>\n",
       "      <td>...</td>\n",
       "      <td>...</td>\n",
       "      <td>...</td>\n",
       "      <td>...</td>\n",
       "      <td>...</td>\n",
       "    </tr>\n",
       "    <tr>\n",
       "      <th>265411</th>\n",
       "      <td>эплвотчки</td>\n",
       "      <td>2025-08-14</td>\n",
       "      <td>app</td>\n",
       "      <td>127888</td>\n",
       "      <td>128957</td>\n",
       "      <td>8949857</td>\n",
       "      <td>563</td>\n",
       "      <td>34</td>\n",
       "      <td>42</td>\n",
       "      <td>4</td>\n",
       "      <td>...</td>\n",
       "      <td>-9.169323</td>\n",
       "      <td>-7.539579</td>\n",
       "      <td>-5.337188</td>\n",
       "      <td>-4.743140</td>\n",
       "      <td>-4.743140</td>\n",
       "      <td>64</td>\n",
       "      <td>461</td>\n",
       "      <td>120</td>\n",
       "      <td>112</td>\n",
       "      <td>112</td>\n",
       "    </tr>\n",
       "    <tr>\n",
       "      <th>265412</th>\n",
       "      <td>эплвотчки</td>\n",
       "      <td>2025-08-14</td>\n",
       "      <td>app</td>\n",
       "      <td>127888</td>\n",
       "      <td>128957</td>\n",
       "      <td>8746405</td>\n",
       "      <td>563</td>\n",
       "      <td>35</td>\n",
       "      <td>42</td>\n",
       "      <td>4</td>\n",
       "      <td>...</td>\n",
       "      <td>-9.169323</td>\n",
       "      <td>-7.539579</td>\n",
       "      <td>-5.337188</td>\n",
       "      <td>-4.743140</td>\n",
       "      <td>-4.743140</td>\n",
       "      <td>64</td>\n",
       "      <td>461</td>\n",
       "      <td>120</td>\n",
       "      <td>112</td>\n",
       "      <td>112</td>\n",
       "    </tr>\n",
       "    <tr>\n",
       "      <th>265413</th>\n",
       "      <td>эплвотчки</td>\n",
       "      <td>2025-08-14</td>\n",
       "      <td>app</td>\n",
       "      <td>127888</td>\n",
       "      <td>128957</td>\n",
       "      <td>8746405</td>\n",
       "      <td>563</td>\n",
       "      <td>35</td>\n",
       "      <td>42</td>\n",
       "      <td>4</td>\n",
       "      <td>...</td>\n",
       "      <td>-9.169323</td>\n",
       "      <td>-7.539579</td>\n",
       "      <td>-5.337188</td>\n",
       "      <td>-4.743140</td>\n",
       "      <td>-4.743140</td>\n",
       "      <td>64</td>\n",
       "      <td>461</td>\n",
       "      <td>120</td>\n",
       "      <td>112</td>\n",
       "      <td>112</td>\n",
       "    </tr>\n",
       "    <tr>\n",
       "      <th>265414</th>\n",
       "      <td>эплвотчки</td>\n",
       "      <td>2025-08-14</td>\n",
       "      <td>app</td>\n",
       "      <td>127888</td>\n",
       "      <td>128957</td>\n",
       "      <td>8169779</td>\n",
       "      <td>563</td>\n",
       "      <td>36</td>\n",
       "      <td>42</td>\n",
       "      <td>4</td>\n",
       "      <td>...</td>\n",
       "      <td>-9.169323</td>\n",
       "      <td>-7.539579</td>\n",
       "      <td>-5.337188</td>\n",
       "      <td>-4.743140</td>\n",
       "      <td>-4.743140</td>\n",
       "      <td>64</td>\n",
       "      <td>461</td>\n",
       "      <td>120</td>\n",
       "      <td>112</td>\n",
       "      <td>112</td>\n",
       "    </tr>\n",
       "    <tr>\n",
       "      <th>265415</th>\n",
       "      <td>эплвотчки</td>\n",
       "      <td>2025-08-14</td>\n",
       "      <td>app</td>\n",
       "      <td>127888</td>\n",
       "      <td>128957</td>\n",
       "      <td>8169779</td>\n",
       "      <td>563</td>\n",
       "      <td>36</td>\n",
       "      <td>42</td>\n",
       "      <td>4</td>\n",
       "      <td>...</td>\n",
       "      <td>-9.169323</td>\n",
       "      <td>-7.539579</td>\n",
       "      <td>-5.337188</td>\n",
       "      <td>-4.743140</td>\n",
       "      <td>-4.743140</td>\n",
       "      <td>64</td>\n",
       "      <td>461</td>\n",
       "      <td>120</td>\n",
       "      <td>112</td>\n",
       "      <td>112</td>\n",
       "    </tr>\n",
       "  </tbody>\n",
       "</table>\n",
       "<p>25500 rows × 81 columns</p>\n",
       "</div>"
      ],
      "text/plain": [
       "                              query        date   device  user_number  \\\n",
       "10                          ,tkbpyf  2025-08-27  desktop         8663   \n",
       "11                          ,tkbpyf  2025-08-27  desktop         8663   \n",
       "19                          ,tkbpyf  2025-08-27  desktop         8663   \n",
       "20                          ,tkbpyf  2025-08-27  desktop         8663   \n",
       "26      ,телефон кнопочный нокио220  2025-07-04   mobile        34615   \n",
       "...                             ...         ...      ...          ...   \n",
       "265411                    эплвотчки  2025-08-14      app       127888   \n",
       "265412                    эплвотчки  2025-08-14      app       127888   \n",
       "265413                    эплвотчки  2025-08-14      app       127888   \n",
       "265414                    эплвотчки  2025-08-14      app       127888   \n",
       "265415                    эплвотчки  2025-08-14      app       127888   \n",
       "\n",
       "        search_number  product_id  selected_category_id  product_position  \\\n",
       "10             308049      518001                   399                11   \n",
       "11             308049      518001                   399                11   \n",
       "19             308049     8373384                   399                19   \n",
       "20             308049     8373384                   399                19   \n",
       "26              95465     8415038                    99                 3   \n",
       "...               ...         ...                   ...               ...   \n",
       "265411         128957     8949857                   563                34   \n",
       "265412         128957     8746405                   563                35   \n",
       "265413         128957     8746405                   563                35   \n",
       "265414         128957     8169779                   563                36   \n",
       "265415         128957     8169779                   563                36   \n",
       "\n",
       "        response_products  response_time  ...  brand_avg_lifetime  \\\n",
       "10                    100              8  ...          -58.242424   \n",
       "11                    100              8  ...          -58.242424   \n",
       "19                    100              8  ...          -45.857143   \n",
       "20                    100              8  ...          -45.857143   \n",
       "26                     15              3  ...          -41.316484   \n",
       "...                   ...            ...  ...                 ...   \n",
       "265411                 42              4  ...           -9.169323   \n",
       "265412                 42              4  ...           -9.169323   \n",
       "265413                 42              4  ...           -9.169323   \n",
       "265414                 42              4  ...           -9.169323   \n",
       "265415                 42              4  ...           -9.169323   \n",
       "\n",
       "        category1_avg_lifetime  category2_avg_lifetime  \\\n",
       "10                   -5.696028               -4.798175   \n",
       "11                   -5.696028               -4.798175   \n",
       "19                   -5.696028               -4.798175   \n",
       "20                   -5.696028               -4.798175   \n",
       "26                   -7.539579               -8.771837   \n",
       "...                        ...                     ...   \n",
       "265411               -7.539579               -5.337188   \n",
       "265412               -7.539579               -5.337188   \n",
       "265413               -7.539579               -5.337188   \n",
       "265414               -7.539579               -5.337188   \n",
       "265415               -7.539579               -5.337188   \n",
       "\n",
       "        category3_avg_lifetime  category4_avg_lifetime  brand_replaced_count  \\\n",
       "10                   -5.257548               -5.257548                     8   \n",
       "11                   -5.257548               -5.257548                     8   \n",
       "19                   -5.257548               -5.257548                     2   \n",
       "20                   -5.257548               -5.257548                     2   \n",
       "26                   -8.771837               -8.771837                    44   \n",
       "...                        ...                     ...                   ...   \n",
       "265411               -4.743140               -4.743140                    64   \n",
       "265412               -4.743140               -4.743140                    64   \n",
       "265413               -4.743140               -4.743140                    64   \n",
       "265414               -4.743140               -4.743140                    64   \n",
       "265415               -4.743140               -4.743140                    64   \n",
       "\n",
       "        category1_replaced_count category2_replaced_count  \\\n",
       "10                           346                      206   \n",
       "11                           346                      206   \n",
       "19                           346                      206   \n",
       "20                           346                      206   \n",
       "26                           461                      341   \n",
       "...                          ...                      ...   \n",
       "265411                       461                      120   \n",
       "265412                       461                      120   \n",
       "265413                       461                      120   \n",
       "265414                       461                      120   \n",
       "265415                       461                      120   \n",
       "\n",
       "        category3_replaced_count  category4_replaced_count  \n",
       "10                            88                        88  \n",
       "11                            88                        88  \n",
       "19                            88                        88  \n",
       "20                            88                        88  \n",
       "26                           341                       341  \n",
       "...                          ...                       ...  \n",
       "265411                       112                       112  \n",
       "265412                       112                       112  \n",
       "265413                       112                       112  \n",
       "265414                       112                       112  \n",
       "265415                       112                       112  \n",
       "\n",
       "[25500 rows x 81 columns]"
      ]
     },
     "execution_count": 42,
     "metadata": {},
     "output_type": "execute_result"
    }
   ],
   "source": [
    "df_test_merged[df_test_merged.duplicated(subset=['session_product_id'], keep=False)]"
   ]
  },
  {
   "cell_type": "code",
   "execution_count": 43,
   "id": "2e0eddd0",
   "metadata": {
    "execution": {
     "iopub.execute_input": "2025-10-28T16:45:22.586077Z",
     "iopub.status.busy": "2025-10-28T16:45:22.585723Z",
     "iopub.status.idle": "2025-10-28T16:45:24.730187Z",
     "shell.execute_reply": "2025-10-28T16:45:24.729053Z"
    },
    "papermill": {
     "duration": 2.17318,
     "end_time": "2025-10-28T16:45:24.732124",
     "exception": false,
     "start_time": "2025-10-28T16:45:22.558944",
     "status": "completed"
    },
    "tags": []
   },
   "outputs": [
    {
     "data": {
      "text/plain": [
       "(6910392, 6558319)"
      ]
     },
     "execution_count": 43,
     "metadata": {},
     "output_type": "execute_result"
    }
   ],
   "source": [
    "len(df_train_merged), df_train_merged[['search_number', 'product_id']].drop_duplicates().shape[0]\n"
   ]
  },
  {
   "cell_type": "code",
   "execution_count": 44,
   "id": "f93ed2cf",
   "metadata": {
    "execution": {
     "iopub.execute_input": "2025-10-28T16:45:24.784122Z",
     "iopub.status.busy": "2025-10-28T16:45:24.783792Z",
     "iopub.status.idle": "2025-10-28T16:45:29.613285Z",
     "shell.execute_reply": "2025-10-28T16:45:29.611935Z"
    },
    "papermill": {
     "duration": 4.857329,
     "end_time": "2025-10-28T16:45:29.615203",
     "exception": false,
     "start_time": "2025-10-28T16:45:24.757874",
     "status": "completed"
    },
    "tags": []
   },
   "outputs": [],
   "source": [
    "df_test_merged = df_test_merged.drop_duplicates(subset=['session_product_id'], keep='first')\n",
    "df_train_merged = df_train_merged.drop_duplicates(subset=['search_number', 'product_id'])"
   ]
  },
  {
   "cell_type": "code",
   "execution_count": 45,
   "id": "53e69f74",
   "metadata": {
    "execution": {
     "iopub.execute_input": "2025-10-28T16:45:29.667124Z",
     "iopub.status.busy": "2025-10-28T16:45:29.666756Z",
     "iopub.status.idle": "2025-10-28T16:45:29.672794Z",
     "shell.execute_reply": "2025-10-28T16:45:29.671583Z"
    },
    "papermill": {
     "duration": 0.034157,
     "end_time": "2025-10-28T16:45:29.674384",
     "exception": false,
     "start_time": "2025-10-28T16:45:29.640227",
     "status": "completed"
    },
    "tags": []
   },
   "outputs": [
    {
     "name": "stdout",
     "output_type": "stream",
     "text": [
      "252720\n"
     ]
    }
   ],
   "source": [
    "print(len(df_test_merged))"
   ]
  },
  {
   "cell_type": "code",
   "execution_count": 46,
   "id": "ba58b131",
   "metadata": {
    "execution": {
     "iopub.execute_input": "2025-10-28T16:45:29.732956Z",
     "iopub.status.busy": "2025-10-28T16:45:29.732602Z",
     "iopub.status.idle": "2025-10-28T16:45:44.022125Z",
     "shell.execute_reply": "2025-10-28T16:45:44.020563Z"
    },
    "papermill": {
     "duration": 14.318493,
     "end_time": "2025-10-28T16:45:44.024588",
     "exception": false,
     "start_time": "2025-10-28T16:45:29.706095",
     "status": "completed"
    },
    "tags": []
   },
   "outputs": [],
   "source": [
    "target = 'relevance'\n",
    "numeric_cols = [\n",
    "    'price', 'price_discount', 'browse_time', 'product_position', 'product_age_days',\n",
    "    'model_len', 'model_words_count', 'model_slash_count', 'numbers_count',\n",
    "    'days_to_replacement', 'product_id_replaced',\n",
    "    'un_user_searches', 'un_user_views', 'un_filters_applied_mean', 'un_browse_time_mean', 'un_price_is_discounted_mean', 'un_available_mean',\n",
    "    'sn_response_products_mean', 'sn_browse_time_mean', 'sn_filters_applied_max', 'sn_price_mean', 'sn_price_min', 'sn_price_max', 'sn_price_max_diff',\n",
    "    'sn_price_is_discounted_mean', 'sn_price_is_super_mean', 'sn_available_mean',\n",
    "    'pr_price_mean', 'pr_price_min', 'pr_price_max', 'pr_price_max_diff', 'pr_price_is_discounted_mean',\n",
    "    'pr_price_is_super_mean', 'pr_available_mean', 'pr_relevance_mean', 'pr_relevance_max', 'pr_relevance_max_diff',\n",
    "    'pr_search_number_count', 'pr_product_position_mean', 'pr_product_position_max', 'pr_product_position_max_diff'\n",
    "]\n",
    "categorical_cols = [\n",
    "    'device', 'brand', 'type', 'category_name_1', 'category_name_2', 'category_name_3', 'category_name_4',\n",
    "    'available', 'replaced_by', 'country', 'model_has_delimeters', 'model_first_word_latin'\n",
    "]\n",
    "\n",
    "df_train_sorted = df_train_merged.sort_values('search_number')\n",
    "X_train_sorted  = df_train_sorted[numeric_cols + categorical_cols].fillna(0)\n",
    "y_train_sorted  = df_train_sorted[target]\n",
    "group_id_train_sorted  = df_train_sorted['search_number'].values\n",
    "    \n",
    "df_test_sorted  = df_test_merged.sort_values('search_number')\n",
    "X_test  = df_test_sorted[numeric_cols + categorical_cols].fillna(0)\n",
    "\n",
    "cat_features_idx = [X_train_sorted.columns.get_loc(c) for c in categorical_cols] # We'll use CatBoost as the training model. To process categorical features, it needs to know their indices."
   ]
  },
  {
   "cell_type": "code",
   "execution_count": 47,
   "id": "3acc06a2",
   "metadata": {
    "execution": {
     "iopub.execute_input": "2025-10-28T16:45:44.080435Z",
     "iopub.status.busy": "2025-10-28T16:45:44.080093Z",
     "iopub.status.idle": "2025-10-28T18:57:08.376146Z",
     "shell.execute_reply": "2025-10-28T18:57:08.374597Z"
    },
    "papermill": {
     "duration": 7884.324151,
     "end_time": "2025-10-28T18:57:08.378213",
     "exception": false,
     "start_time": "2025-10-28T16:45:44.054062",
     "status": "completed"
    },
    "tags": []
   },
   "outputs": [
    {
     "name": "stdout",
     "output_type": "stream",
     "text": [
      "Groupwise loss function. OneHotMaxSize set to 10\n",
      "0:\ttotal: 17.1s\tremaining: 2h 21m 56s\n",
      "100:\ttotal: 25m 45s\tremaining: 1h 41m 45s\n",
      "200:\ttotal: 51m 55s\tremaining: 1h 17m 14s\n",
      "300:\ttotal: 1h 17m 41s\tremaining: 51m 21s\n",
      "400:\ttotal: 1h 44m 26s\tremaining: 25m 47s\n",
      "499:\ttotal: 2h 10m 14s\tremaining: 0us\n"
     ]
    },
    {
     "data": {
      "text/plain": [
       "<catboost.core.CatBoostRanker at 0x7d2f17625350>"
      ]
     },
     "execution_count": 47,
     "metadata": {},
     "output_type": "execute_result"
    }
   ],
   "source": [
    "ranker = CatBoostRanker(\n",
    "    iterations=500,\n",
    "    learning_rate=0.1,\n",
    "    depth=6,\n",
    "    eval_metric='NDCG',\n",
    "    random_seed=42,\n",
    "    verbose=100\n",
    ")\n",
    "\n",
    "ranker.fit(\n",
    "    X_train_sorted,\n",
    "    y_train_sorted,\n",
    "    group_id=group_id_train_sorted,\n",
    "    cat_features=cat_features_idx\n",
    ")"
   ]
  },
  {
   "cell_type": "code",
   "execution_count": 48,
   "id": "11048520",
   "metadata": {
    "execution": {
     "iopub.execute_input": "2025-10-28T18:57:08.431459Z",
     "iopub.status.busy": "2025-10-28T18:57:08.431050Z",
     "iopub.status.idle": "2025-10-28T18:57:12.033549Z",
     "shell.execute_reply": "2025-10-28T18:57:12.032323Z"
    },
    "papermill": {
     "duration": 3.63164,
     "end_time": "2025-10-28T18:57:12.035460",
     "exception": false,
     "start_time": "2025-10-28T18:57:08.403820",
     "status": "completed"
    },
    "tags": []
   },
   "outputs": [],
   "source": [
    "submission['session_product_id'] = df_test_merged['search_number'].astype(str) + \"_\" + df_test_merged['product_id'].astype(str)\n",
    "\n",
    "# relevance — model predictions\n",
    "submission['relevance'] = ranker.predict(X_test)\n",
    "\n",
    "# Save predictions\n",
    "submission.to_csv(\"submission.csv\", index=False)"
   ]
  },
  {
   "cell_type": "code",
   "execution_count": 49,
   "id": "cf12aa70",
   "metadata": {
    "execution": {
     "iopub.execute_input": "2025-10-28T18:57:12.088103Z",
     "iopub.status.busy": "2025-10-28T18:57:12.086834Z",
     "iopub.status.idle": "2025-10-28T18:57:12.102919Z",
     "shell.execute_reply": "2025-10-28T18:57:12.101871Z"
    },
    "papermill": {
     "duration": 0.044634,
     "end_time": "2025-10-28T18:57:12.104444",
     "exception": false,
     "start_time": "2025-10-28T18:57:12.059810",
     "status": "completed"
    },
    "tags": []
   },
   "outputs": [
    {
     "data": {
      "text/html": [
       "<div>\n",
       "<style scoped>\n",
       "    .dataframe tbody tr th:only-of-type {\n",
       "        vertical-align: middle;\n",
       "    }\n",
       "\n",
       "    .dataframe tbody tr th {\n",
       "        vertical-align: top;\n",
       "    }\n",
       "\n",
       "    .dataframe thead th {\n",
       "        text-align: right;\n",
       "    }\n",
       "</style>\n",
       "<table border=\"1\" class=\"dataframe\">\n",
       "  <thead>\n",
       "    <tr style=\"text-align: right;\">\n",
       "      <th></th>\n",
       "      <th>session_product_id</th>\n",
       "      <th>relevance</th>\n",
       "    </tr>\n",
       "  </thead>\n",
       "  <tbody>\n",
       "    <tr>\n",
       "      <th>0</th>\n",
       "      <td>308049_8080243</td>\n",
       "      <td>5.257672</td>\n",
       "    </tr>\n",
       "    <tr>\n",
       "      <th>1</th>\n",
       "      <td>308049_8826131</td>\n",
       "      <td>4.940732</td>\n",
       "    </tr>\n",
       "    <tr>\n",
       "      <th>2</th>\n",
       "      <td>308049_7850512</td>\n",
       "      <td>4.566130</td>\n",
       "    </tr>\n",
       "    <tr>\n",
       "      <th>3</th>\n",
       "      <td>308049_5897964</td>\n",
       "      <td>4.558471</td>\n",
       "    </tr>\n",
       "    <tr>\n",
       "      <th>4</th>\n",
       "      <td>308049_6915061</td>\n",
       "      <td>4.430371</td>\n",
       "    </tr>\n",
       "    <tr>\n",
       "      <th>...</th>\n",
       "      <td>...</td>\n",
       "      <td>...</td>\n",
       "    </tr>\n",
       "    <tr>\n",
       "      <th>252715</th>\n",
       "      <td>418046_8493712</td>\n",
       "      <td>4.725032</td>\n",
       "    </tr>\n",
       "    <tr>\n",
       "      <th>252716</th>\n",
       "      <td>418046_8497799</td>\n",
       "      <td>3.425970</td>\n",
       "    </tr>\n",
       "    <tr>\n",
       "      <th>252717</th>\n",
       "      <td>418046_9747899</td>\n",
       "      <td>4.696855</td>\n",
       "    </tr>\n",
       "    <tr>\n",
       "      <th>252718</th>\n",
       "      <td>418046_7914722</td>\n",
       "      <td>4.561784</td>\n",
       "    </tr>\n",
       "    <tr>\n",
       "      <th>252719</th>\n",
       "      <td>418046_6523849</td>\n",
       "      <td>4.776267</td>\n",
       "    </tr>\n",
       "  </tbody>\n",
       "</table>\n",
       "<p>252720 rows × 2 columns</p>\n",
       "</div>"
      ],
      "text/plain": [
       "       session_product_id  relevance\n",
       "0          308049_8080243   5.257672\n",
       "1          308049_8826131   4.940732\n",
       "2          308049_7850512   4.566130\n",
       "3          308049_5897964   4.558471\n",
       "4          308049_6915061   4.430371\n",
       "...                   ...        ...\n",
       "252715     418046_8493712   4.725032\n",
       "252716     418046_8497799   3.425970\n",
       "252717     418046_9747899   4.696855\n",
       "252718     418046_7914722   4.561784\n",
       "252719     418046_6523849   4.776267\n",
       "\n",
       "[252720 rows x 2 columns]"
      ]
     },
     "execution_count": 49,
     "metadata": {},
     "output_type": "execute_result"
    }
   ],
   "source": [
    "submission"
   ]
  }
 ],
 "metadata": {
  "kaggle": {
   "accelerator": "none",
   "dataSources": [
    {
     "databundleVersionId": 13748315,
     "sourceId": 115104,
     "sourceType": "competition"
    }
   ],
   "dockerImageVersionId": 31153,
   "isGpuEnabled": false,
   "isInternetEnabled": true,
   "language": "python",
   "sourceType": "notebook"
  },
  "kernelspec": {
   "display_name": "Python 3",
   "language": "python",
   "name": "python3"
  },
  "language_info": {
   "codemirror_mode": {
    "name": "ipython",
    "version": 3
   },
   "file_extension": ".py",
   "mimetype": "text/x-python",
   "name": "python",
   "nbconvert_exporter": "python",
   "pygments_lexer": "ipython3",
   "version": "3.11.13"
  },
  "papermill": {
   "default_parameters": {},
   "duration": 8157.45756,
   "end_time": "2025-10-28T18:57:15.856959",
   "environment_variables": {},
   "exception": null,
   "input_path": "__notebook__.ipynb",
   "output_path": "__notebook__.ipynb",
   "parameters": {},
   "start_time": "2025-10-28T16:41:18.399399",
   "version": "2.6.0"
  }
 },
 "nbformat": 4,
 "nbformat_minor": 5
}
